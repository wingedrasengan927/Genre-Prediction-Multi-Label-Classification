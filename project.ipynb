{
 "cells": [
  {
   "cell_type": "code",
   "execution_count": 38,
   "metadata": {},
   "outputs": [],
   "source": [
    "import numpy as np\n",
    "import pandas as pd"
   ]
  },
  {
   "cell_type": "markdown",
   "metadata": {},
   "source": [
    "# Loading and preprocessing the Data"
   ]
  },
  {
   "cell_type": "code",
   "execution_count": 39,
   "metadata": {},
   "outputs": [],
   "source": [
    "movie_data = pd.read_csv(\"movie.metadata.tsv\", sep=\"\\t\", header=None, encoding='utf-8')"
   ]
  },
  {
   "cell_type": "code",
   "execution_count": 40,
   "metadata": {},
   "outputs": [
    {
     "data": {
      "text/html": [
       "<div>\n",
       "<style scoped>\n",
       "    .dataframe tbody tr th:only-of-type {\n",
       "        vertical-align: middle;\n",
       "    }\n",
       "\n",
       "    .dataframe tbody tr th {\n",
       "        vertical-align: top;\n",
       "    }\n",
       "\n",
       "    .dataframe thead th {\n",
       "        text-align: right;\n",
       "    }\n",
       "</style>\n",
       "<table border=\"1\" class=\"dataframe\">\n",
       "  <thead>\n",
       "    <tr style=\"text-align: right;\">\n",
       "      <th></th>\n",
       "      <th>0</th>\n",
       "      <th>1</th>\n",
       "      <th>2</th>\n",
       "      <th>3</th>\n",
       "      <th>4</th>\n",
       "      <th>5</th>\n",
       "      <th>6</th>\n",
       "      <th>7</th>\n",
       "      <th>8</th>\n",
       "    </tr>\n",
       "  </thead>\n",
       "  <tbody>\n",
       "    <tr>\n",
       "      <th>0</th>\n",
       "      <td>975900</td>\n",
       "      <td>/m/03vyhn</td>\n",
       "      <td>Ghosts of Mars</td>\n",
       "      <td>2001-08-24</td>\n",
       "      <td>14010832.0</td>\n",
       "      <td>98.0</td>\n",
       "      <td>{\"/m/02h40lc\": \"English Language\"}</td>\n",
       "      <td>{\"/m/09c7w0\": \"United States of America\"}</td>\n",
       "      <td>{\"/m/01jfsb\": \"Thriller\", \"/m/06n90\": \"Science...</td>\n",
       "    </tr>\n",
       "    <tr>\n",
       "      <th>1</th>\n",
       "      <td>3196793</td>\n",
       "      <td>/m/08yl5d</td>\n",
       "      <td>Getting Away with Murder: The JonBenét Ramsey ...</td>\n",
       "      <td>2000-02-16</td>\n",
       "      <td>NaN</td>\n",
       "      <td>95.0</td>\n",
       "      <td>{\"/m/02h40lc\": \"English Language\"}</td>\n",
       "      <td>{\"/m/09c7w0\": \"United States of America\"}</td>\n",
       "      <td>{\"/m/02n4kr\": \"Mystery\", \"/m/03bxz7\": \"Biograp...</td>\n",
       "    </tr>\n",
       "    <tr>\n",
       "      <th>2</th>\n",
       "      <td>28463795</td>\n",
       "      <td>/m/0crgdbh</td>\n",
       "      <td>Brun bitter</td>\n",
       "      <td>1988</td>\n",
       "      <td>NaN</td>\n",
       "      <td>83.0</td>\n",
       "      <td>{\"/m/05f_3\": \"Norwegian Language\"}</td>\n",
       "      <td>{\"/m/05b4w\": \"Norway\"}</td>\n",
       "      <td>{\"/m/0lsxr\": \"Crime Fiction\", \"/m/07s9rl0\": \"D...</td>\n",
       "    </tr>\n",
       "    <tr>\n",
       "      <th>3</th>\n",
       "      <td>9363483</td>\n",
       "      <td>/m/0285_cd</td>\n",
       "      <td>White Of The Eye</td>\n",
       "      <td>1987</td>\n",
       "      <td>NaN</td>\n",
       "      <td>110.0</td>\n",
       "      <td>{\"/m/02h40lc\": \"English Language\"}</td>\n",
       "      <td>{\"/m/07ssc\": \"United Kingdom\"}</td>\n",
       "      <td>{\"/m/01jfsb\": \"Thriller\", \"/m/0glj9q\": \"Erotic...</td>\n",
       "    </tr>\n",
       "    <tr>\n",
       "      <th>4</th>\n",
       "      <td>261236</td>\n",
       "      <td>/m/01mrr1</td>\n",
       "      <td>A Woman in Flames</td>\n",
       "      <td>1983</td>\n",
       "      <td>NaN</td>\n",
       "      <td>106.0</td>\n",
       "      <td>{\"/m/04306rv\": \"German Language\"}</td>\n",
       "      <td>{\"/m/0345h\": \"Germany\"}</td>\n",
       "      <td>{\"/m/07s9rl0\": \"Drama\"}</td>\n",
       "    </tr>\n",
       "  </tbody>\n",
       "</table>\n",
       "</div>"
      ],
      "text/plain": [
       "          0           1                                                  2  \\\n",
       "0    975900   /m/03vyhn                                     Ghosts of Mars   \n",
       "1   3196793   /m/08yl5d  Getting Away with Murder: The JonBenét Ramsey ...   \n",
       "2  28463795  /m/0crgdbh                                        Brun bitter   \n",
       "3   9363483  /m/0285_cd                                   White Of The Eye   \n",
       "4    261236   /m/01mrr1                                  A Woman in Flames   \n",
       "\n",
       "            3           4      5                                   6  \\\n",
       "0  2001-08-24  14010832.0   98.0  {\"/m/02h40lc\": \"English Language\"}   \n",
       "1  2000-02-16         NaN   95.0  {\"/m/02h40lc\": \"English Language\"}   \n",
       "2        1988         NaN   83.0  {\"/m/05f_3\": \"Norwegian Language\"}   \n",
       "3        1987         NaN  110.0  {\"/m/02h40lc\": \"English Language\"}   \n",
       "4        1983         NaN  106.0   {\"/m/04306rv\": \"German Language\"}   \n",
       "\n",
       "                                           7  \\\n",
       "0  {\"/m/09c7w0\": \"United States of America\"}   \n",
       "1  {\"/m/09c7w0\": \"United States of America\"}   \n",
       "2                     {\"/m/05b4w\": \"Norway\"}   \n",
       "3             {\"/m/07ssc\": \"United Kingdom\"}   \n",
       "4                    {\"/m/0345h\": \"Germany\"}   \n",
       "\n",
       "                                                   8  \n",
       "0  {\"/m/01jfsb\": \"Thriller\", \"/m/06n90\": \"Science...  \n",
       "1  {\"/m/02n4kr\": \"Mystery\", \"/m/03bxz7\": \"Biograp...  \n",
       "2  {\"/m/0lsxr\": \"Crime Fiction\", \"/m/07s9rl0\": \"D...  \n",
       "3  {\"/m/01jfsb\": \"Thriller\", \"/m/0glj9q\": \"Erotic...  \n",
       "4                            {\"/m/07s9rl0\": \"Drama\"}  "
      ]
     },
     "execution_count": 40,
     "metadata": {},
     "output_type": "execute_result"
    }
   ],
   "source": [
    "movie_data.head()"
   ]
  },
  {
   "cell_type": "code",
   "execution_count": 41,
   "metadata": {},
   "outputs": [
    {
     "name": "stdout",
     "output_type": "stream",
     "text": [
      "<class 'pandas.core.frame.DataFrame'>\n",
      "RangeIndex: 81741 entries, 0 to 81740\n",
      "Data columns (total 9 columns):\n",
      "0    81741 non-null int64\n",
      "1    81741 non-null object\n",
      "2    81741 non-null object\n",
      "3    74839 non-null object\n",
      "4    8401 non-null float64\n",
      "5    61291 non-null float64\n",
      "6    81741 non-null object\n",
      "7    81741 non-null object\n",
      "8    81741 non-null object\n",
      "dtypes: float64(2), int64(1), object(6)\n",
      "memory usage: 5.6+ MB\n"
     ]
    }
   ],
   "source": [
    "movie_data.info()"
   ]
  },
  {
   "cell_type": "markdown",
   "metadata": {},
   "source": [
    "### Converting the string objects in columns 6, 7, 8 to dictionary"
   ]
  },
  {
   "cell_type": "code",
   "execution_count": 42,
   "metadata": {},
   "outputs": [],
   "source": [
    "import ast\n",
    "movie_data[[6, 7, 8]] = movie_data[[6, 7, 8]].applymap(ast.literal_eval)"
   ]
  },
  {
   "cell_type": "markdown",
   "metadata": {},
   "source": [
    "### Replacing the dictionary object with it's respective values"
   ]
  },
  {
   "cell_type": "code",
   "execution_count": 43,
   "metadata": {},
   "outputs": [],
   "source": [
    "def replace_dicts(arg):\n",
    "    return list(arg.values())"
   ]
  },
  {
   "cell_type": "code",
   "execution_count": 44,
   "metadata": {},
   "outputs": [],
   "source": [
    "movie_data[[6, 7, 8]] = movie_data[[6, 7, 8]].applymap(replace_dicts)"
   ]
  },
  {
   "cell_type": "code",
   "execution_count": 45,
   "metadata": {},
   "outputs": [
    {
     "data": {
      "text/html": [
       "<div>\n",
       "<style scoped>\n",
       "    .dataframe tbody tr th:only-of-type {\n",
       "        vertical-align: middle;\n",
       "    }\n",
       "\n",
       "    .dataframe tbody tr th {\n",
       "        vertical-align: top;\n",
       "    }\n",
       "\n",
       "    .dataframe thead th {\n",
       "        text-align: right;\n",
       "    }\n",
       "</style>\n",
       "<table border=\"1\" class=\"dataframe\">\n",
       "  <thead>\n",
       "    <tr style=\"text-align: right;\">\n",
       "      <th></th>\n",
       "      <th>0</th>\n",
       "      <th>1</th>\n",
       "      <th>2</th>\n",
       "      <th>3</th>\n",
       "      <th>4</th>\n",
       "      <th>5</th>\n",
       "      <th>6</th>\n",
       "      <th>7</th>\n",
       "      <th>8</th>\n",
       "    </tr>\n",
       "  </thead>\n",
       "  <tbody>\n",
       "    <tr>\n",
       "      <th>0</th>\n",
       "      <td>975900</td>\n",
       "      <td>/m/03vyhn</td>\n",
       "      <td>Ghosts of Mars</td>\n",
       "      <td>2001-08-24</td>\n",
       "      <td>14010832.0</td>\n",
       "      <td>98.0</td>\n",
       "      <td>[English Language]</td>\n",
       "      <td>[United States of America]</td>\n",
       "      <td>[Thriller, Science Fiction, Horror, Adventure,...</td>\n",
       "    </tr>\n",
       "    <tr>\n",
       "      <th>1</th>\n",
       "      <td>3196793</td>\n",
       "      <td>/m/08yl5d</td>\n",
       "      <td>Getting Away with Murder: The JonBenét Ramsey ...</td>\n",
       "      <td>2000-02-16</td>\n",
       "      <td>NaN</td>\n",
       "      <td>95.0</td>\n",
       "      <td>[English Language]</td>\n",
       "      <td>[United States of America]</td>\n",
       "      <td>[Mystery, Biographical film, Drama, Crime Drama]</td>\n",
       "    </tr>\n",
       "    <tr>\n",
       "      <th>2</th>\n",
       "      <td>28463795</td>\n",
       "      <td>/m/0crgdbh</td>\n",
       "      <td>Brun bitter</td>\n",
       "      <td>1988</td>\n",
       "      <td>NaN</td>\n",
       "      <td>83.0</td>\n",
       "      <td>[Norwegian Language]</td>\n",
       "      <td>[Norway]</td>\n",
       "      <td>[Crime Fiction, Drama]</td>\n",
       "    </tr>\n",
       "    <tr>\n",
       "      <th>3</th>\n",
       "      <td>9363483</td>\n",
       "      <td>/m/0285_cd</td>\n",
       "      <td>White Of The Eye</td>\n",
       "      <td>1987</td>\n",
       "      <td>NaN</td>\n",
       "      <td>110.0</td>\n",
       "      <td>[English Language]</td>\n",
       "      <td>[United Kingdom]</td>\n",
       "      <td>[Thriller, Erotic thriller, Psychological thri...</td>\n",
       "    </tr>\n",
       "    <tr>\n",
       "      <th>4</th>\n",
       "      <td>261236</td>\n",
       "      <td>/m/01mrr1</td>\n",
       "      <td>A Woman in Flames</td>\n",
       "      <td>1983</td>\n",
       "      <td>NaN</td>\n",
       "      <td>106.0</td>\n",
       "      <td>[German Language]</td>\n",
       "      <td>[Germany]</td>\n",
       "      <td>[Drama]</td>\n",
       "    </tr>\n",
       "  </tbody>\n",
       "</table>\n",
       "</div>"
      ],
      "text/plain": [
       "          0           1                                                  2  \\\n",
       "0    975900   /m/03vyhn                                     Ghosts of Mars   \n",
       "1   3196793   /m/08yl5d  Getting Away with Murder: The JonBenét Ramsey ...   \n",
       "2  28463795  /m/0crgdbh                                        Brun bitter   \n",
       "3   9363483  /m/0285_cd                                   White Of The Eye   \n",
       "4    261236   /m/01mrr1                                  A Woman in Flames   \n",
       "\n",
       "            3           4      5                     6  \\\n",
       "0  2001-08-24  14010832.0   98.0    [English Language]   \n",
       "1  2000-02-16         NaN   95.0    [English Language]   \n",
       "2        1988         NaN   83.0  [Norwegian Language]   \n",
       "3        1987         NaN  110.0    [English Language]   \n",
       "4        1983         NaN  106.0     [German Language]   \n",
       "\n",
       "                            7  \\\n",
       "0  [United States of America]   \n",
       "1  [United States of America]   \n",
       "2                    [Norway]   \n",
       "3            [United Kingdom]   \n",
       "4                   [Germany]   \n",
       "\n",
       "                                                   8  \n",
       "0  [Thriller, Science Fiction, Horror, Adventure,...  \n",
       "1   [Mystery, Biographical film, Drama, Crime Drama]  \n",
       "2                             [Crime Fiction, Drama]  \n",
       "3  [Thriller, Erotic thriller, Psychological thri...  \n",
       "4                                            [Drama]  "
      ]
     },
     "execution_count": 45,
     "metadata": {},
     "output_type": "execute_result"
    }
   ],
   "source": [
    "movie_data.head()"
   ]
  },
  {
   "cell_type": "markdown",
   "metadata": {},
   "source": [
    "#### columns 6, 7 contain only a single element. So we take out the element from the list, and if it contains nothing, we replace it with null values"
   ]
  },
  {
   "cell_type": "code",
   "execution_count": 46,
   "metadata": {},
   "outputs": [],
   "source": [
    "def take_element(arg):\n",
    "    if len(arg) != 0:\n",
    "        return arg[0]\n",
    "    else:\n",
    "        return np.nan"
   ]
  },
  {
   "cell_type": "code",
   "execution_count": 47,
   "metadata": {},
   "outputs": [],
   "source": [
    "movie_data[[6, 7]] = movie_data[[6, 7]].applymap(take_element)"
   ]
  },
  {
   "cell_type": "code",
   "execution_count": 48,
   "metadata": {},
   "outputs": [
    {
     "data": {
      "text/html": [
       "<div>\n",
       "<style scoped>\n",
       "    .dataframe tbody tr th:only-of-type {\n",
       "        vertical-align: middle;\n",
       "    }\n",
       "\n",
       "    .dataframe tbody tr th {\n",
       "        vertical-align: top;\n",
       "    }\n",
       "\n",
       "    .dataframe thead th {\n",
       "        text-align: right;\n",
       "    }\n",
       "</style>\n",
       "<table border=\"1\" class=\"dataframe\">\n",
       "  <thead>\n",
       "    <tr style=\"text-align: right;\">\n",
       "      <th></th>\n",
       "      <th>0</th>\n",
       "      <th>1</th>\n",
       "      <th>2</th>\n",
       "      <th>3</th>\n",
       "      <th>4</th>\n",
       "      <th>5</th>\n",
       "      <th>6</th>\n",
       "      <th>7</th>\n",
       "      <th>8</th>\n",
       "    </tr>\n",
       "  </thead>\n",
       "  <tbody>\n",
       "    <tr>\n",
       "      <th>0</th>\n",
       "      <td>975900</td>\n",
       "      <td>/m/03vyhn</td>\n",
       "      <td>Ghosts of Mars</td>\n",
       "      <td>2001-08-24</td>\n",
       "      <td>14010832.0</td>\n",
       "      <td>98.0</td>\n",
       "      <td>English Language</td>\n",
       "      <td>United States of America</td>\n",
       "      <td>[Thriller, Science Fiction, Horror, Adventure,...</td>\n",
       "    </tr>\n",
       "    <tr>\n",
       "      <th>1</th>\n",
       "      <td>3196793</td>\n",
       "      <td>/m/08yl5d</td>\n",
       "      <td>Getting Away with Murder: The JonBenét Ramsey ...</td>\n",
       "      <td>2000-02-16</td>\n",
       "      <td>NaN</td>\n",
       "      <td>95.0</td>\n",
       "      <td>English Language</td>\n",
       "      <td>United States of America</td>\n",
       "      <td>[Mystery, Biographical film, Drama, Crime Drama]</td>\n",
       "    </tr>\n",
       "    <tr>\n",
       "      <th>2</th>\n",
       "      <td>28463795</td>\n",
       "      <td>/m/0crgdbh</td>\n",
       "      <td>Brun bitter</td>\n",
       "      <td>1988</td>\n",
       "      <td>NaN</td>\n",
       "      <td>83.0</td>\n",
       "      <td>Norwegian Language</td>\n",
       "      <td>Norway</td>\n",
       "      <td>[Crime Fiction, Drama]</td>\n",
       "    </tr>\n",
       "    <tr>\n",
       "      <th>3</th>\n",
       "      <td>9363483</td>\n",
       "      <td>/m/0285_cd</td>\n",
       "      <td>White Of The Eye</td>\n",
       "      <td>1987</td>\n",
       "      <td>NaN</td>\n",
       "      <td>110.0</td>\n",
       "      <td>English Language</td>\n",
       "      <td>United Kingdom</td>\n",
       "      <td>[Thriller, Erotic thriller, Psychological thri...</td>\n",
       "    </tr>\n",
       "    <tr>\n",
       "      <th>4</th>\n",
       "      <td>261236</td>\n",
       "      <td>/m/01mrr1</td>\n",
       "      <td>A Woman in Flames</td>\n",
       "      <td>1983</td>\n",
       "      <td>NaN</td>\n",
       "      <td>106.0</td>\n",
       "      <td>German Language</td>\n",
       "      <td>Germany</td>\n",
       "      <td>[Drama]</td>\n",
       "    </tr>\n",
       "  </tbody>\n",
       "</table>\n",
       "</div>"
      ],
      "text/plain": [
       "          0           1                                                  2  \\\n",
       "0    975900   /m/03vyhn                                     Ghosts of Mars   \n",
       "1   3196793   /m/08yl5d  Getting Away with Murder: The JonBenét Ramsey ...   \n",
       "2  28463795  /m/0crgdbh                                        Brun bitter   \n",
       "3   9363483  /m/0285_cd                                   White Of The Eye   \n",
       "4    261236   /m/01mrr1                                  A Woman in Flames   \n",
       "\n",
       "            3           4      5                   6  \\\n",
       "0  2001-08-24  14010832.0   98.0    English Language   \n",
       "1  2000-02-16         NaN   95.0    English Language   \n",
       "2        1988         NaN   83.0  Norwegian Language   \n",
       "3        1987         NaN  110.0    English Language   \n",
       "4        1983         NaN  106.0     German Language   \n",
       "\n",
       "                          7                                                  8  \n",
       "0  United States of America  [Thriller, Science Fiction, Horror, Adventure,...  \n",
       "1  United States of America   [Mystery, Biographical film, Drama, Crime Drama]  \n",
       "2                    Norway                             [Crime Fiction, Drama]  \n",
       "3            United Kingdom  [Thriller, Erotic thriller, Psychological thri...  \n",
       "4                   Germany                                            [Drama]  "
      ]
     },
     "execution_count": 48,
     "metadata": {},
     "output_type": "execute_result"
    }
   ],
   "source": [
    "movie_data.head()"
   ]
  },
  {
   "cell_type": "markdown",
   "metadata": {},
   "source": [
    "### Replacing Empty Lists with null values"
   ]
  },
  {
   "cell_type": "code",
   "execution_count": 49,
   "metadata": {},
   "outputs": [],
   "source": [
    "def remove_empty_lists(genre_list):\n",
    "    if len(genre_list) == 0:\n",
    "        return np.nan\n",
    "    else:\n",
    "        return genre_list"
   ]
  },
  {
   "cell_type": "code",
   "execution_count": 50,
   "metadata": {},
   "outputs": [],
   "source": [
    "movie_data[8] = movie_data[8].apply(remove_empty_lists)"
   ]
  },
  {
   "cell_type": "code",
   "execution_count": 51,
   "metadata": {},
   "outputs": [],
   "source": [
    "movie_data.dropna(subset=[8], inplace=True)"
   ]
  },
  {
   "cell_type": "markdown",
   "metadata": {},
   "source": [
    "### loading and mapping the plot summaries based on the wikipedia movie ID"
   ]
  },
  {
   "cell_type": "code",
   "execution_count": 52,
   "metadata": {},
   "outputs": [],
   "source": [
    "indices = []\n",
    "summaries = []\n",
    "\n",
    "import re\n",
    "pattern = re.compile(r\"\\t\")"
   ]
  },
  {
   "cell_type": "code",
   "execution_count": 53,
   "metadata": {},
   "outputs": [],
   "source": [
    "with open(\"plot_summaries.txt\", 'r') as f:\n",
    "    for line in f:\n",
    "        Id, summary = re.split(pattern, line)\n",
    "        indices.append(Id)\n",
    "        summaries.append(summary)"
   ]
  },
  {
   "cell_type": "code",
   "execution_count": 54,
   "metadata": {},
   "outputs": [],
   "source": [
    "indices = np.asarray(indices, dtype=np.int32)"
   ]
  },
  {
   "cell_type": "code",
   "execution_count": 55,
   "metadata": {},
   "outputs": [],
   "source": [
    "plot_column = pd.Series(index=indices, data=summaries)"
   ]
  },
  {
   "cell_type": "code",
   "execution_count": 56,
   "metadata": {},
   "outputs": [],
   "source": [
    "movie_data_new = movie_data.copy()"
   ]
  },
  {
   "cell_type": "code",
   "execution_count": 57,
   "metadata": {},
   "outputs": [],
   "source": [
    "movie_data_new = movie_data_new.set_index(0)"
   ]
  },
  {
   "cell_type": "code",
   "execution_count": 58,
   "metadata": {},
   "outputs": [],
   "source": [
    "movie_data_new[\"plot\"] = plot_column"
   ]
  },
  {
   "cell_type": "code",
   "execution_count": 59,
   "metadata": {},
   "outputs": [],
   "source": [
    "movie_data_new = movie_data_new.reset_index()"
   ]
  },
  {
   "cell_type": "code",
   "execution_count": 60,
   "metadata": {},
   "outputs": [
    {
     "data": {
      "text/html": [
       "<div>\n",
       "<style scoped>\n",
       "    .dataframe tbody tr th:only-of-type {\n",
       "        vertical-align: middle;\n",
       "    }\n",
       "\n",
       "    .dataframe tbody tr th {\n",
       "        vertical-align: top;\n",
       "    }\n",
       "\n",
       "    .dataframe thead th {\n",
       "        text-align: right;\n",
       "    }\n",
       "</style>\n",
       "<table border=\"1\" class=\"dataframe\">\n",
       "  <thead>\n",
       "    <tr style=\"text-align: right;\">\n",
       "      <th></th>\n",
       "      <th>0</th>\n",
       "      <th>1</th>\n",
       "      <th>2</th>\n",
       "      <th>3</th>\n",
       "      <th>4</th>\n",
       "      <th>5</th>\n",
       "      <th>6</th>\n",
       "      <th>7</th>\n",
       "      <th>8</th>\n",
       "      <th>plot</th>\n",
       "    </tr>\n",
       "  </thead>\n",
       "  <tbody>\n",
       "    <tr>\n",
       "      <th>0</th>\n",
       "      <td>975900</td>\n",
       "      <td>/m/03vyhn</td>\n",
       "      <td>Ghosts of Mars</td>\n",
       "      <td>2001-08-24</td>\n",
       "      <td>14010832.0</td>\n",
       "      <td>98.0</td>\n",
       "      <td>English Language</td>\n",
       "      <td>United States of America</td>\n",
       "      <td>[Thriller, Science Fiction, Horror, Adventure,...</td>\n",
       "      <td>Set in the second half of the 22nd century, th...</td>\n",
       "    </tr>\n",
       "    <tr>\n",
       "      <th>1</th>\n",
       "      <td>3196793</td>\n",
       "      <td>/m/08yl5d</td>\n",
       "      <td>Getting Away with Murder: The JonBenét Ramsey ...</td>\n",
       "      <td>2000-02-16</td>\n",
       "      <td>NaN</td>\n",
       "      <td>95.0</td>\n",
       "      <td>English Language</td>\n",
       "      <td>United States of America</td>\n",
       "      <td>[Mystery, Biographical film, Drama, Crime Drama]</td>\n",
       "      <td>NaN</td>\n",
       "    </tr>\n",
       "    <tr>\n",
       "      <th>2</th>\n",
       "      <td>28463795</td>\n",
       "      <td>/m/0crgdbh</td>\n",
       "      <td>Brun bitter</td>\n",
       "      <td>1988</td>\n",
       "      <td>NaN</td>\n",
       "      <td>83.0</td>\n",
       "      <td>Norwegian Language</td>\n",
       "      <td>Norway</td>\n",
       "      <td>[Crime Fiction, Drama]</td>\n",
       "      <td>NaN</td>\n",
       "    </tr>\n",
       "    <tr>\n",
       "      <th>3</th>\n",
       "      <td>9363483</td>\n",
       "      <td>/m/0285_cd</td>\n",
       "      <td>White Of The Eye</td>\n",
       "      <td>1987</td>\n",
       "      <td>NaN</td>\n",
       "      <td>110.0</td>\n",
       "      <td>English Language</td>\n",
       "      <td>United Kingdom</td>\n",
       "      <td>[Thriller, Erotic thriller, Psychological thri...</td>\n",
       "      <td>A series of murders of rich young women throug...</td>\n",
       "    </tr>\n",
       "    <tr>\n",
       "      <th>4</th>\n",
       "      <td>261236</td>\n",
       "      <td>/m/01mrr1</td>\n",
       "      <td>A Woman in Flames</td>\n",
       "      <td>1983</td>\n",
       "      <td>NaN</td>\n",
       "      <td>106.0</td>\n",
       "      <td>German Language</td>\n",
       "      <td>Germany</td>\n",
       "      <td>[Drama]</td>\n",
       "      <td>Eva, an upper class housewife, becomes frustra...</td>\n",
       "    </tr>\n",
       "  </tbody>\n",
       "</table>\n",
       "</div>"
      ],
      "text/plain": [
       "          0           1                                                  2  \\\n",
       "0    975900   /m/03vyhn                                     Ghosts of Mars   \n",
       "1   3196793   /m/08yl5d  Getting Away with Murder: The JonBenét Ramsey ...   \n",
       "2  28463795  /m/0crgdbh                                        Brun bitter   \n",
       "3   9363483  /m/0285_cd                                   White Of The Eye   \n",
       "4    261236   /m/01mrr1                                  A Woman in Flames   \n",
       "\n",
       "            3           4      5                   6  \\\n",
       "0  2001-08-24  14010832.0   98.0    English Language   \n",
       "1  2000-02-16         NaN   95.0    English Language   \n",
       "2        1988         NaN   83.0  Norwegian Language   \n",
       "3        1987         NaN  110.0    English Language   \n",
       "4        1983         NaN  106.0     German Language   \n",
       "\n",
       "                          7  \\\n",
       "0  United States of America   \n",
       "1  United States of America   \n",
       "2                    Norway   \n",
       "3            United Kingdom   \n",
       "4                   Germany   \n",
       "\n",
       "                                                   8  \\\n",
       "0  [Thriller, Science Fiction, Horror, Adventure,...   \n",
       "1   [Mystery, Biographical film, Drama, Crime Drama]   \n",
       "2                             [Crime Fiction, Drama]   \n",
       "3  [Thriller, Erotic thriller, Psychological thri...   \n",
       "4                                            [Drama]   \n",
       "\n",
       "                                                plot  \n",
       "0  Set in the second half of the 22nd century, th...  \n",
       "1                                                NaN  \n",
       "2                                                NaN  \n",
       "3  A series of murders of rich young women throug...  \n",
       "4  Eva, an upper class housewife, becomes frustra...  "
      ]
     },
     "execution_count": 60,
     "metadata": {},
     "output_type": "execute_result"
    }
   ],
   "source": [
    "movie_data_new.head()"
   ]
  },
  {
   "cell_type": "markdown",
   "metadata": {},
   "source": [
    "### Removing the uneccessary columns and renaming the rest"
   ]
  },
  {
   "cell_type": "code",
   "execution_count": 61,
   "metadata": {},
   "outputs": [],
   "source": [
    "movie_data_new = movie_data_new.drop([1, 4], axis=1)"
   ]
  },
  {
   "cell_type": "code",
   "execution_count": 62,
   "metadata": {},
   "outputs": [],
   "source": [
    "movie_data_new.rename({0:\"ID\", 2:\"movie_name\", 3:\"year_release\", 5:\"play_time\", 6:\"Language\", \\\n",
    "                       7:\"country\", 8:\"genre\"}, axis=1, inplace=True)"
   ]
  },
  {
   "cell_type": "code",
   "execution_count": 63,
   "metadata": {},
   "outputs": [
    {
     "data": {
      "text/html": [
       "<div>\n",
       "<style scoped>\n",
       "    .dataframe tbody tr th:only-of-type {\n",
       "        vertical-align: middle;\n",
       "    }\n",
       "\n",
       "    .dataframe tbody tr th {\n",
       "        vertical-align: top;\n",
       "    }\n",
       "\n",
       "    .dataframe thead th {\n",
       "        text-align: right;\n",
       "    }\n",
       "</style>\n",
       "<table border=\"1\" class=\"dataframe\">\n",
       "  <thead>\n",
       "    <tr style=\"text-align: right;\">\n",
       "      <th></th>\n",
       "      <th>ID</th>\n",
       "      <th>movie_name</th>\n",
       "      <th>year_release</th>\n",
       "      <th>play_time</th>\n",
       "      <th>Language</th>\n",
       "      <th>country</th>\n",
       "      <th>genre</th>\n",
       "      <th>plot</th>\n",
       "    </tr>\n",
       "  </thead>\n",
       "  <tbody>\n",
       "    <tr>\n",
       "      <th>0</th>\n",
       "      <td>975900</td>\n",
       "      <td>Ghosts of Mars</td>\n",
       "      <td>2001-08-24</td>\n",
       "      <td>98.0</td>\n",
       "      <td>English Language</td>\n",
       "      <td>United States of America</td>\n",
       "      <td>[Thriller, Science Fiction, Horror, Adventure,...</td>\n",
       "      <td>Set in the second half of the 22nd century, th...</td>\n",
       "    </tr>\n",
       "    <tr>\n",
       "      <th>1</th>\n",
       "      <td>3196793</td>\n",
       "      <td>Getting Away with Murder: The JonBenét Ramsey ...</td>\n",
       "      <td>2000-02-16</td>\n",
       "      <td>95.0</td>\n",
       "      <td>English Language</td>\n",
       "      <td>United States of America</td>\n",
       "      <td>[Mystery, Biographical film, Drama, Crime Drama]</td>\n",
       "      <td>NaN</td>\n",
       "    </tr>\n",
       "    <tr>\n",
       "      <th>2</th>\n",
       "      <td>28463795</td>\n",
       "      <td>Brun bitter</td>\n",
       "      <td>1988</td>\n",
       "      <td>83.0</td>\n",
       "      <td>Norwegian Language</td>\n",
       "      <td>Norway</td>\n",
       "      <td>[Crime Fiction, Drama]</td>\n",
       "      <td>NaN</td>\n",
       "    </tr>\n",
       "    <tr>\n",
       "      <th>3</th>\n",
       "      <td>9363483</td>\n",
       "      <td>White Of The Eye</td>\n",
       "      <td>1987</td>\n",
       "      <td>110.0</td>\n",
       "      <td>English Language</td>\n",
       "      <td>United Kingdom</td>\n",
       "      <td>[Thriller, Erotic thriller, Psychological thri...</td>\n",
       "      <td>A series of murders of rich young women throug...</td>\n",
       "    </tr>\n",
       "    <tr>\n",
       "      <th>4</th>\n",
       "      <td>261236</td>\n",
       "      <td>A Woman in Flames</td>\n",
       "      <td>1983</td>\n",
       "      <td>106.0</td>\n",
       "      <td>German Language</td>\n",
       "      <td>Germany</td>\n",
       "      <td>[Drama]</td>\n",
       "      <td>Eva, an upper class housewife, becomes frustra...</td>\n",
       "    </tr>\n",
       "  </tbody>\n",
       "</table>\n",
       "</div>"
      ],
      "text/plain": [
       "         ID                                         movie_name year_release  \\\n",
       "0    975900                                     Ghosts of Mars   2001-08-24   \n",
       "1   3196793  Getting Away with Murder: The JonBenét Ramsey ...   2000-02-16   \n",
       "2  28463795                                        Brun bitter         1988   \n",
       "3   9363483                                   White Of The Eye         1987   \n",
       "4    261236                                  A Woman in Flames         1983   \n",
       "\n",
       "   play_time            Language                   country  \\\n",
       "0       98.0    English Language  United States of America   \n",
       "1       95.0    English Language  United States of America   \n",
       "2       83.0  Norwegian Language                    Norway   \n",
       "3      110.0    English Language            United Kingdom   \n",
       "4      106.0     German Language                   Germany   \n",
       "\n",
       "                                               genre  \\\n",
       "0  [Thriller, Science Fiction, Horror, Adventure,...   \n",
       "1   [Mystery, Biographical film, Drama, Crime Drama]   \n",
       "2                             [Crime Fiction, Drama]   \n",
       "3  [Thriller, Erotic thriller, Psychological thri...   \n",
       "4                                            [Drama]   \n",
       "\n",
       "                                                plot  \n",
       "0  Set in the second half of the 22nd century, th...  \n",
       "1                                                NaN  \n",
       "2                                                NaN  \n",
       "3  A series of murders of rich young women throug...  \n",
       "4  Eva, an upper class housewife, becomes frustra...  "
      ]
     },
     "execution_count": 63,
     "metadata": {},
     "output_type": "execute_result"
    }
   ],
   "source": [
    "movie_data_new.head()"
   ]
  },
  {
   "cell_type": "code",
   "execution_count": null,
   "metadata": {},
   "outputs": [],
   "source": []
  },
  {
   "cell_type": "markdown",
   "metadata": {},
   "source": [
    "## Pre-processing the genres"
   ]
  },
  {
   "cell_type": "markdown",
   "metadata": {},
   "source": []
  },
  {
   "cell_type": "code",
   "execution_count": 64,
   "metadata": {},
   "outputs": [
    {
     "data": {
      "text/plain": [
       "0    [Thriller, Science Fiction, Horror, Adventure,...\n",
       "1     [Mystery, Biographical film, Drama, Crime Drama]\n",
       "2                               [Crime Fiction, Drama]\n",
       "3    [Thriller, Erotic thriller, Psychological thri...\n",
       "4                                              [Drama]\n",
       "Name: genre, dtype: object"
      ]
     },
     "execution_count": 64,
     "metadata": {},
     "output_type": "execute_result"
    }
   ],
   "source": [
    "movie_data_new[\"genre\"].head()"
   ]
  },
  {
   "cell_type": "code",
   "execution_count": 65,
   "metadata": {},
   "outputs": [],
   "source": [
    "def split_genre(genre_list):\n",
    "    '''splits the genres, eg., converts \"Action Thriller\" to [\"Action\", \"Thriller\"]'''\n",
    "    genre_list_new = []\n",
    "    for genre in genre_list:\n",
    "        genre = genre.lower()\n",
    "        genre = re.sub(r\"\\'s\", \"\", genre)\n",
    "        genre = re.sub(r\"/\", \" \", genre)\n",
    "        genre = re.sub(r\"sci-fi\", \"sci fi\", genre)\n",
    "        genre = re.sub(r\"fictionction\", \"fiction action\", genre)\n",
    "        genre = re.sub(r\"coming of age\", \"coming-of-age\", genre)\n",
    "        genre = re.sub(r\"movies\", \"movie\", genre)\n",
    "        genre = re.sub(r\"comedy-drama\", \"comedy drama\", genre)\n",
    "        genre = re.sub(r\"martial arts\", \"martial-arts\", genre)\n",
    "        genre = re.sub(r\"hip hop\", \"hip-hop\", genre)\n",
    "        genre = re.sub(r\" issues\", \"-issue\", genre)\n",
    "        genre = re.sub(r\"time travel\", \"time-travel\", genre)\n",
    "        genre_list_new.extend(genre.split())\n",
    "        \n",
    "    return list(set(genre_list_new))"
   ]
  },
  {
   "cell_type": "code",
   "execution_count": 66,
   "metadata": {},
   "outputs": [],
   "source": [
    "movie_data_new[\"genre\"] = movie_data_new[\"genre\"].apply(split_genre)"
   ]
  },
  {
   "cell_type": "markdown",
   "metadata": {},
   "source": [
    "## ----- genre preprocessing -----\n",
    "\n",
    "- biographical --> biography\n",
    "- period --> history\n",
    "- sci-fi --> [science, fiction]\n",
    "- action/adventure --> [action, adventure]\n",
    "- children's/family --> [children, family]\n",
    "- sci --> science\n",
    "- humour --> comedy\n",
    "- fictional --> fiction\n",
    "- fi --> fiction\n",
    "- singing --> music\n",
    "- comdedy --> comedy\n",
    "- investing --> finance\n",
    "- child --> children\n",
    "- jukebox --> music\n",
    "- computers --> science\n",
    "- librarians --> libraries\n",
    "- romantic --> romance\n",
    "- scienceence --> science\n",
    "- fictionction --> [fiction, action]\n",
    "- coming of age --> coming-of-age\n",
    "- warfare --> war\n",
    "- childrenren --> children\n",
    "- martial arts --> martial-arts\n",
    "- biopic --> biography\n",
    "- thrillers --> thriller\n",
    "- gross-out --> gross\n",
    "- fictionlms --> fiction\n",
    "- fictionlmed --> fiction\n",
    "- hip hop --> hip-hop"
   ]
  },
  {
   "cell_type": "code",
   "execution_count": 67,
   "metadata": {},
   "outputs": [],
   "source": [
    "def clean_genre(genre_list):\n",
    "    if \"film\" in genre_list:\n",
    "        genre_list.remove(\"film\")\n",
    "    if \"world\" in genre_list:\n",
    "        genre_list.remove(\"world\")\n",
    "    if \"cinema\" in genre_list:\n",
    "        genre_list.remove(\"cinema\")\n",
    "    if \"movie\" in genre_list:\n",
    "        genre_list.remove(\"movie\")\n",
    "    if \"pictures\" in genre_list:\n",
    "        genre_list.remove(\"pictures\")\n",
    "    if \"about\" in genre_list:\n",
    "        genre_list.remove(\"about\")\n",
    "    if \"camera\" in genre_list:\n",
    "        genre_list.remove(\"camera\")\n",
    "    if \"piece\" in genre_list:\n",
    "        genre_list.remove(\"piece\")\n",
    "    if \"buddy\" in genre_list:\n",
    "        genre_list.remove(\"buddy\")\n",
    "    if \"&\" in genre_list:\n",
    "        genre_list.remove(\"&\")\n",
    "    if \"of\" in genre_list:\n",
    "        genre_list.remove(\"of\")\n",
    "    if \"[feature]\" in genre_list:\n",
    "        genre_list.remove(\"[feature]\")\n",
    "    if \"in\" in genre_list:\n",
    "        genre_list.remove(\"in\")\n",
    "    if \"errors\" in genre_list:\n",
    "        genre_list.remove(\"errors\")\n",
    "    if \"à\" in genre_list:\n",
    "        genre_list.remove(\"à\")\n",
    "    if \"out\" in genre_list:\n",
    "        genre_list.remove(\"out\")\n",
    "    if \"the\" in genre_list:\n",
    "        genre_list.remove(\"the\")\n",
    "    if \"ii\" in genre_list:\n",
    "        genre_list.remove(\"ii\")\n",
    "    if \"and\" in genre_list:\n",
    "        genre_list.remove(\"and\")\n",
    "    if \"sword\" in genre_list:\n",
    "        genre_list.remove(\"sword\")\n",
    "    if \"z\" in genre_list:\n",
    "        genre_list.remove(\"z\")\n",
    "    if \"95\" in genre_list:\n",
    "        genre_list.remove(\"95\")\n",
    "    if \"acid\" in genre_list:\n",
    "        genre_list.remove(\"acid\")\n",
    "    if \"applied\" in genre_list:\n",
    "        genre_list.remove(\"applied\")\n",
    "    if \"new\" in genre_list:\n",
    "        genre_list.remove(\"new\")\n",
    "    if \"view\" in genre_list:\n",
    "        genre_list.remove(\"view\")\n",
    "        \n",
    "    genre_list_new = []\n",
    "    for genre in genre_list:\n",
    "        genre = re.sub(r\"biographical\", \"biography\", genre)\n",
    "        genre = re.sub(r\"period\", \"history\", genre)\n",
    "        genre = re.sub(r\"sci\", \"science\", genre)\n",
    "        genre = re.sub(r\"humour\", \"comedy\", genre)\n",
    "        genre = re.sub(r\"fi\", \"fiction\", genre)\n",
    "        genre = re.sub(r\"fictional\", \"fiction\", genre)\n",
    "        genre = re.sub(r\"singing\", \"music\", genre)\n",
    "        genre = re.sub(r\"comdedy\", \"comedy\", genre)\n",
    "        genre = re.sub(r\"child\", \"children\", genre)\n",
    "        genre = re.sub(r\"computers\", \"science\", genre)\n",
    "        genre = re.sub(r\"jukebox\", \"music\", genre)\n",
    "        genre = re.sub(r\"librarians\", \"libraries\", genre)\n",
    "        genre = re.sub(r\"investing\", \"finance\", genre)\n",
    "        genre = re.sub(r\"romantic\", \"romance\", genre)\n",
    "        genre = re.sub(r\"scienceence\", \"science\", genre)\n",
    "        genre = re.sub(r\"warfare\", \"war\", genre)\n",
    "        genre = re.sub(r\"fictionction\", \"fiction\", genre)\n",
    "        genre = re.sub(r\"childrenren\", \"children\", genre)\n",
    "        genre = re.sub(r\"biopic\", \"biography\", genre)\n",
    "        genre = re.sub(r\"thrillers\", \"thriller\", genre)\n",
    "        genre = re.sub(r\"gross-out\", \"gross\", genre)\n",
    "        genre = re.sub(r\"fictionlms\", \"fiction\", genre)\n",
    "        genre = re.sub(r\"fictionlmed\", \"fiction\", genre)\n",
    "        genre = re.sub(r\"documentaries\", \"documentary\", genre)\n",
    "        genre = re.sub(r\"documetary\", \"documentary\", genre)\n",
    "        genre = re.sub(r\"comedies\", \"comedy\", genre)\n",
    "        genre = re.sub(r\"family-oriented\", \"family\", genre)\n",
    "        genre = re.sub(r\"innovations\", \"science\", genre)\n",
    "        genre = re.sub(r\"inventions\", \"science\", genre)\n",
    "        genre = re.sub(r\"arts\", \"art\", genre)\n",
    "        genre = re.sub(r\"fictionlipino\", \"fiction\", genre)\n",
    "        genre = re.sub(r\"fictional\", \"fiction\", genre)\n",
    "        genre = re.sub(r\"children-issue\", \"children\", genre)\n",
    "        genre = re.sub(r\"childrenhood\", \"children\", genre)\n",
    "        genre = re.sub(r\"gender-issue\", \"lgbt\", genre)\n",
    "        genre = re.sub(r\"anime\", \"animation\", genre)\n",
    "        genre = re.sub(r\"cartoon\", \"animation\", genre)\n",
    "        genre = re.sub(r\"b-western\", \"western\", genre)\n",
    "        genre = re.sub(r\"social-issue\", \"social\", genre)\n",
    "        genre = re.sub(r\"pinku\", \"melodrama\", genre)\n",
    "        genre = re.sub(r\"road-horror\", \"horror\", genre)\n",
    "        genre = re.sub(r\"heaven-can-wait\", \"heavenly\", genre)\n",
    "        genre = re.sub(r\"psycho-biddy\", \"psychological\", genre)\n",
    "        genre = re.sub(r\"fictiontness\", \"fiction\", genre)\n",
    "        genre = re.sub(r\"fictionnance\", \"fiction\", genre)\n",
    "        genre = re.sub(r\"children-issue\", \"children\", genre)\n",
    "        genre = re.sub(r\"fictionlm-opera\", \"fiction\", genre)\n",
    "        genre = re.sub(r\"bruceploitation\", \"exploitation\", genre)\n",
    "        genre = re.sub(r\"therimin\", \"music\", genre)\n",
    "        genre = re.sub(r\"c-movie\", \"b-movie\", genre)\n",
    "        genre_list_new.append(genre)\n",
    "    \n",
    "    return list(set(genre_list_new))"
   ]
  },
  {
   "cell_type": "code",
   "execution_count": 68,
   "metadata": {},
   "outputs": [],
   "source": [
    "movie_data_new[\"genre\"] = movie_data_new[\"genre\"].apply(clean_genre)"
   ]
  },
  {
   "cell_type": "markdown",
   "metadata": {},
   "source": [
    "### Further Preprocessing"
   ]
  },
  {
   "cell_type": "markdown",
   "metadata": {},
   "source": [
    "Counting all the genres"
   ]
  },
  {
   "cell_type": "code",
   "execution_count": 69,
   "metadata": {},
   "outputs": [],
   "source": [
    "genre_count = {}\n",
    "for genres in movie_data_new[\"genre\"].values:\n",
    "    for genre in genres:\n",
    "        if genre not in genre_count.keys():\n",
    "            genre_count.update({genre: 1})\n",
    "        else:\n",
    "            genre_count[genre] += 1"
   ]
  },
  {
   "cell_type": "code",
   "execution_count": 70,
   "metadata": {},
   "outputs": [
    {
     "data": {
      "text/plain": [
       "308"
      ]
     },
     "execution_count": 70,
     "metadata": {},
     "output_type": "execute_result"
    }
   ],
   "source": [
    "len(genre_count)"
   ]
  },
  {
   "cell_type": "code",
   "execution_count": 71,
   "metadata": {},
   "outputs": [],
   "source": [
    "# sorting the dictionary\n",
    "from collections import OrderedDict\n",
    "sorted_dict = sorted(genre_count.items(), key=lambda x: x[1], reverse=True)\n",
    "sorted_dict = OrderedDict(sorted_dict)"
   ]
  },
  {
   "cell_type": "code",
   "execution_count": null,
   "metadata": {},
   "outputs": [],
   "source": []
  },
  {
   "cell_type": "markdown",
   "metadata": {},
   "source": [
    "#### get similar words based on character pattern"
   ]
  },
  {
   "cell_type": "code",
   "execution_count": 72,
   "metadata": {},
   "outputs": [],
   "source": [
    "from difflib import get_close_matches"
   ]
  },
  {
   "cell_type": "code",
   "execution_count": 73,
   "metadata": {},
   "outputs": [
    {
     "name": "stdout",
     "output_type": "stream",
     "text": [
      "['fiction', 'action', 'addiction']\n"
     ]
    }
   ],
   "source": [
    "print(get_close_matches(\"fiction\", list(sorted_dict.keys())))"
   ]
  },
  {
   "cell_type": "code",
   "execution_count": 119,
   "metadata": {},
   "outputs": [
    {
     "name": "stdout",
     "output_type": "stream",
     "text": [
      "the close words to drama are: \n",
      "['drama', 'melodrama']\n",
      "the close words to comedy are: \n",
      "['comedy']\n",
      "the close words to fiction are: \n",
      "['fiction', 'action', 'animation']\n",
      "the close words to romance are: \n",
      "['romance']\n",
      "the close words to action are: \n",
      "['action', 'fiction', 'animation']\n",
      "the close words to thriller are: \n",
      "['thriller']\n",
      "the close words to black-and-white are: \n",
      "['black-and-white']\n",
      "the close words to adventure are: \n",
      "['adventure']\n",
      "the close words to short are: \n",
      "['short', 'sports']\n",
      "the close words to crime are: \n",
      "['crime']\n"
     ]
    }
   ],
   "source": [
    "for word in list(sorted_dict.keys())[:10]:\n",
    "    print(\"the close words to {} are: \".format(word))\n",
    "    print(get_close_matches(word, list(sorted_dict.keys())))"
   ]
  },
  {
   "cell_type": "markdown",
   "metadata": {},
   "source": [
    "### Grouping words based on their semantic meanings using word embeddings"
   ]
  },
  {
   "cell_type": "code",
   "execution_count": 75,
   "metadata": {},
   "outputs": [],
   "source": [
    "import numpy as np\n",
    "from sklearn.metrics import pairwise_distances"
   ]
  },
  {
   "cell_type": "code",
   "execution_count": 76,
   "metadata": {},
   "outputs": [],
   "source": [
    "def cosine_dist(a, b):\n",
    "    '''This function calculates the cosine distance between two vectors'''\n",
    "    return 1 - (a.dot(b)/(np.linalg.norm(a)*np.linalg.norm(b)))"
   ]
  },
  {
   "cell_type": "code",
   "execution_count": 77,
   "metadata": {},
   "outputs": [],
   "source": [
    "glove_path = \"glove.6B.100d.txt\""
   ]
  },
  {
   "cell_type": "code",
   "execution_count": 78,
   "metadata": {},
   "outputs": [],
   "source": [
    "vocab_list = list(sorted_dict.keys())\n",
    "top50_vocab_list = vocab_list[:50]\n",
    "bottom_vocab_list = vocab_list[50:]"
   ]
  },
  {
   "cell_type": "code",
   "execution_count": 79,
   "metadata": {},
   "outputs": [
    {
     "name": "stdout",
     "output_type": "stream",
     "text": [
      "Loading word vectors only if they are in the vocab_list\n",
      "found 49 vectors in top50\n",
      "found 258 words in bottom\n"
     ]
    }
   ],
   "source": [
    "print(\"Loading word vectors only if they are in the vocab_list\")\n",
    "top50_word2vec = {}\n",
    "bottom_word2vec = {}\n",
    "top50_embedding = []\n",
    "bottom_embedding = []\n",
    "top50_idx2word = []\n",
    "bottom_idx2word = []\n",
    "with open(glove_path) as f:\n",
    "    for line in f:\n",
    "        values = line.split()\n",
    "        word = values[0]\n",
    "        vec = np.asarray(values[1:], dtype='float32')\n",
    "        no_words = 0\n",
    "        if word in top50_vocab_list:\n",
    "            top50_word2vec[word] = vec\n",
    "            top50_embedding.append(vec)\n",
    "            top50_idx2word.append(word)\n",
    "        elif word in bottom_vocab_list:\n",
    "            bottom_word2vec[word] = vec\n",
    "            bottom_embedding.append(vec)\n",
    "            bottom_idx2word.append(word)\n",
    "        else:\n",
    "            no_words += 1\n",
    "    print(\"found {} vectors in top50\".format(len(top50_word2vec)))\n",
    "    print(\"found {} words in bottom\".format(len(bottom_word2vec)))\n",
    "    top50_embedding = np.array(top50_embedding)\n",
    "    bottom_embedding = np.array(bottom_embedding)\n",
    "    top50_V, top50_D = top50_embedding.shape\n",
    "    bottom_V, bottom_D = bottom_embedding.shape"
   ]
  },
  {
   "cell_type": "code",
   "execution_count": 80,
   "metadata": {},
   "outputs": [],
   "source": [
    "genre_mapping = {}\n",
    "def nearest_neighbors(bottom_word):\n",
    "    if bottom_word not in bottom_word2vec:\n",
    "        print(\"*****************     {} not in dictionary\".format(bottom_word))\n",
    "        return\n",
    "    \n",
    "    bottom_vec = bottom_word2vec[bottom_word]\n",
    "    distances = pairwise_distances(bottom_vec.reshape(1, bottom_D), top50_embedding).reshape(top50_V)\n",
    "    idx = distances.argsort()[0]\n",
    "    print(\"{} --> {}\".format(bottom_word, top50_idx2word[idx]))\n",
    "    genre_mapping[bottom_word] = top50_idx2word[idx]"
   ]
  },
  {
   "cell_type": "code",
   "execution_count": 81,
   "metadata": {},
   "outputs": [
    {
     "name": "stdout",
     "output_type": "stream",
     "text": [
      "costume --> parody\n",
      "slapstick --> melodrama\n",
      "art --> culture\n",
      "b-movie --> slasher\n",
      "spy --> thriller\n",
      "social --> political\n",
      "ensemble --> musical\n",
      "gay --> lgbt\n",
      "gangster --> slasher\n",
      "docudrama --> melodrama\n",
      "detective --> mystery\n",
      "creature --> supernatural\n",
      "themed --> adventure\n",
      "erotic --> melodrama\n",
      "road --> short\n",
      "epic --> fantasy\n",
      "sex --> teen\n",
      "pornographic --> parody\n",
      "erotica --> parody\n",
      "superhero --> parody\n",
      "concert --> musical\n",
      "screwball --> melodrama\n",
      "monster --> parody\n",
      "disaster --> action\n",
      "interest --> short\n",
      "zombie --> slasher\n",
      "manners --> satire\n",
      "experimental --> science\n",
      "courtroom --> silent\n",
      "story --> mystery\n",
      "computer --> science\n",
      "adult --> teen\n",
      "domestic --> action\n",
      "propaganda --> parody\n",
      "rockumentary --> coming-of-age\n",
      "marriage --> romance\n",
      "avant-garde --> indie\n",
      "natural --> western\n",
      "picture --> documentary\n",
      "animal --> society\n",
      "pre-code --> coming-of-age\n",
      "heist --> melodrama\n",
      "mockumentary --> parody\n",
      "stop --> action\n",
      "motion --> action\n",
      "animated --> animation\n",
      "christian --> culture\n",
      "surrealism --> melodrama\n",
      "prison --> crime\n",
      "spaghetti --> melodrama\n",
      "problem --> action\n",
      "swashbuckler --> melodrama\n",
      "sexploitation --> slasher\n",
      "wuxia --> melodrama\n",
      "media --> television\n",
      "doomsday --> cult\n",
      "life --> history\n",
      "slice --> satire\n",
      "alien --> supernatural\n",
      "dance --> music\n",
      "holiday --> adventure\n",
      "chase --> short\n",
      "caper --> melodrama\n",
      "blaxploitation --> slasher\n",
      "americana --> indie\n",
      "combat --> war\n",
      "tragedy --> horror\n",
      "feminist --> lgbt\n",
      "workplace --> lgbt\n",
      "dystopia --> melodrama\n",
      "pornography --> crime\n",
      "christmas --> short\n",
      "stand-up --> comedy\n",
      "racing --> sports\n",
      "absurdism --> melodrama\n",
      "remake --> parody\n",
      "hollywood --> comedy\n",
      "time-travel --> coming-of-age\n",
      "law --> action\n",
      "whodunit --> melodrama\n",
      "hip-hop --> indie\n",
      "medical --> science\n",
      "jungle --> adventure\n",
      "auto --> japanese\n",
      "boxing --> sports\n",
      "house --> family\n",
      "haunted --> mystery\n",
      "gothic --> melodrama\n",
      "religious --> political\n",
      "sorcery --> supernatural\n",
      "revisionist --> parody\n",
      "punk --> indie\n",
      "rock --> indie\n",
      "tamil --> western\n",
      "softcore --> black-and-white\n",
      "porn --> parody\n",
      "fairy --> fantasy\n",
      "tale --> melodrama\n",
      "nature --> historical\n",
      "tragicomedy --> coming-of-age\n",
      "addiction --> teen\n",
      "neo-noir --> coming-of-age\n",
      "juvenile --> crime\n",
      "delinquency --> crime\n",
      "escape --> action\n",
      "gross --> crime\n",
      "relationships --> romance\n",
      "airplanes --> short\n",
      "airports --> western\n",
      "disabilities --> children\n",
      "illnesses --> psychological\n",
      "heavenly --> supernatural\n",
      "stoner --> parody\n",
      "travel --> short\n",
      "interpersonal --> psychological\n",
      "glamorized --> slasher\n",
      "animals --> children\n",
      "roadshow --> parody\n",
      "tollywood --> bollywood\n",
      "samurai --> slasher\n",
      "anti-war --> lgbt\n",
      "release --> action\n",
      "theatrical --> musical\n",
      "fan --> fantasy\n",
      "educational --> science\n",
      "british --> western\n",
      "hybrid --> fantasy\n",
      "existentialism --> melodrama\n",
      "inspirational --> biography\n",
      "giallo --> slasher\n",
      "apocalyptic --> parody\n",
      "post-apocalyptic --> coming-of-age\n",
      "studies --> science\n",
      "steampunk --> fantasy\n",
      "clef --> melodrama\n",
      "biker --> slasher\n",
      "environmental --> action\n",
      "mythological --> supernatural\n",
      "future --> action\n",
      "eiga --> slasher\n",
      "extreme --> action\n",
      "graphic --> biography\n",
      "splatter --> slasher\n",
      "criminal --> crime\n",
      "master --> science\n",
      "literature --> fiction\n",
      "language --> culture\n",
      "dogme --> slasher\n",
      "exploitation --> action\n",
      "hagiography --> melodrama\n",
      "sandal --> slasher\n",
      "backstage --> parody\n",
      "essay --> biography\n",
      "indian --> western\n",
      "empire --> western\n",
      "instrumental --> musical\n",
      "fantasies --> melodrama\n",
      "wave --> action\n",
      "northern --> western\n",
      "outlaw --> parody\n",
      "beach --> adventure\n",
      "entertainment --> sports\n",
      "serial --> parody\n",
      "space --> science\n",
      "women --> children\n",
      "bias --> action\n",
      "albino --> coming-of-age\n",
      "personal --> political\n",
      "kitchen --> mystery\n",
      "sink --> short\n",
      "realism --> satire\n",
      "bengali --> bollywood\n",
      "news --> television\n",
      "cop --> slasher\n",
      "anthropology --> science\n",
      "cavalry --> war\n",
      "health --> children\n",
      "ealing --> melodrama\n",
      "anthology --> fiction\n",
      "feature --> documentary\n",
      "horse --> short\n",
      "malayalam --> bollywood\n",
      "business --> society\n",
      "mondo --> parody\n",
      "cold --> short\n",
      "archaeology --> history\n",
      "hardcore --> indie\n",
      "mumblecore --> slasher\n",
      "legion --> society\n",
      "foreign --> chinese\n",
      "baseball --> sports\n",
      "czechoslovak --> black-and-white\n",
      "journalism --> science\n",
      "reboot --> parody\n",
      "legal --> action\n",
      "early --> short\n",
      "sponsored --> action\n",
      "records --> history\n",
      "archives --> historical\n",
      "education --> science\n",
      "play --> short\n",
      "race --> history\n",
      "gulf --> western\n",
      "demonic --> supernatural\n",
      "latino --> lgbt\n",
      "invasion --> war\n",
      "finance --> action\n",
      "gladiators --> slasher\n",
      "bloopers --> parody\n",
      "candid --> satire\n",
      "parkour --> parody\n",
      "popular --> parody\n",
      "cyberpunk --> coming-of-age\n",
      "clay --> history\n",
      "kafkaesque --> coming-of-age\n",
      "plague --> mystery\n",
      "opera --> musical\n",
      "libraries --> society\n",
      "carny --> melodrama\n",
      "operetta --> melodrama\n",
      "female --> teen\n",
      "school --> children\n",
      "original --> musical\n",
      "cowboy --> parody\n",
      "tokusatsu --> slasher\n",
      "werewolf --> slasher\n",
      "live --> children\n",
      "goat --> parody\n",
      "gland --> coming-of-age\n",
      "expressionism --> melodrama\n",
      "camp --> war\n",
      "nuclear --> action\n",
      "supermarionation --> coming-of-age\n",
      "vampire --> supernatural\n",
      "shot --> short\n",
      "point --> short\n",
      "star --> sports\n",
      "vehicle --> action\n",
      "revenge --> action\n",
      "conspiracy --> crime\n",
      "private --> family\n",
      "military --> war\n",
      "company --> action\n",
      "party --> political\n",
      "patriotic --> silent\n",
      "ninja --> supernatural\n",
      "netherlands --> western\n",
      "linguistics --> science\n",
      "silhouette --> melodrama\n",
      "breakdance --> melodrama\n",
      "effort --> action\n",
      "chick --> slasher\n",
      "flick --> slasher\n",
      "statutory --> action\n",
      "rape --> crime\n",
      "queer --> lgbt\n",
      "neorealism --> melodrama\n",
      "homoeroticism --> melodrama\n"
     ]
    }
   ],
   "source": [
    "for bottom_word in bottom_vocab_list:\n",
    "    nearest_neighbors(bottom_word)"
   ]
  },
  {
   "cell_type": "code",
   "execution_count": 82,
   "metadata": {},
   "outputs": [],
   "source": [
    "# import json\n",
    "# with open(\"data.json\") as f:\n",
    "#     genre_mapping = json.load(f)"
   ]
  },
  {
   "cell_type": "markdown",
   "metadata": {},
   "source": [
    "#### using 50 genres because of memory error with 100"
   ]
  },
  {
   "cell_type": "code",
   "execution_count": null,
   "metadata": {},
   "outputs": [],
   "source": []
  },
  {
   "cell_type": "code",
   "execution_count": 83,
   "metadata": {},
   "outputs": [],
   "source": [
    "def genre_map(genre_list):\n",
    "    genre_list_new = []\n",
    "    for genre in genre_list:\n",
    "        if genre in genre_mapping.values():\n",
    "            genre_list_new.append(genre)\n",
    "        elif genre in genre_mapping.keys():\n",
    "            new_genre = genre_mapping[genre]\n",
    "            genre_list_new.append(new_genre)\n",
    "        else:\n",
    "            genre_list_new.append(genre)\n",
    "    return list(set(genre_list_new))"
   ]
  },
  {
   "cell_type": "code",
   "execution_count": 84,
   "metadata": {},
   "outputs": [],
   "source": [
    "movie_data_new[\"genre\"] = movie_data_new[\"genre\"].apply(genre_map)"
   ]
  },
  {
   "cell_type": "code",
   "execution_count": 85,
   "metadata": {},
   "outputs": [],
   "source": [
    "genre_count = {}\n",
    "for genres in movie_data_new[\"genre\"].values:\n",
    "    for genre in genres:\n",
    "        if genre not in genre_count.keys():\n",
    "            genre_count.update({genre: 1})\n",
    "        else:\n",
    "            genre_count[genre] += 1"
   ]
  },
  {
   "cell_type": "code",
   "execution_count": 86,
   "metadata": {},
   "outputs": [],
   "source": [
    "# sorting the dictionary\n",
    "from collections import OrderedDict\n",
    "sorted_dict = sorted(genre_count.items(), key=lambda x: x[1], reverse=True)\n",
    "sorted_dict = OrderedDict(sorted_dict)"
   ]
  },
  {
   "cell_type": "code",
   "execution_count": null,
   "metadata": {},
   "outputs": [],
   "source": []
  },
  {
   "cell_type": "code",
   "execution_count": 87,
   "metadata": {},
   "outputs": [],
   "source": [
    "# count plot of all the genres\n",
    "\n",
    "import matplotlib as mpl\n",
    "import matplotlib.pyplot as plt\n",
    "%matplotlib inline"
   ]
  },
  {
   "cell_type": "code",
   "execution_count": 88,
   "metadata": {},
   "outputs": [],
   "source": [
    "COLOR = 'white'\n",
    "mpl.rcParams['text.color'] = COLOR\n",
    "mpl.rcParams['axes.labelcolor'] = COLOR\n",
    "mpl.rcParams['xtick.color'] = COLOR\n",
    "mpl.rcParams['ytick.color'] = COLOR"
   ]
  },
  {
   "cell_type": "code",
   "execution_count": 89,
   "metadata": {},
   "outputs": [
    {
     "data": {
      "image/png": "[encoded data removed]",
      "text/plain": [
       "<Figure size 720x2160 with 1 Axes>"
      ]
     },
     "metadata": {
      "needs_background": "dark"
     },
     "output_type": "display_data"
    }
   ],
   "source": [
    "\n",
    "plt.figure(figsize=(10, 30))\n",
    "plt.barh(list(sorted_dict.keys()), list(sorted_dict.values()), color='g')\n",
    "plt.xlabel(\"Movie Genres\", color=\"white\")\n",
    "plt.ylabel(\"Counts\", color=\"white\")\n",
    "plt.title(\"Count Plot of Top 20 Movie Genres\", color=\"white\")\n",
    "plt.show()"
   ]
  },
  {
   "cell_type": "code",
   "execution_count": 90,
   "metadata": {},
   "outputs": [
    {
     "data": {
      "text/plain": [
       "50"
      ]
     },
     "execution_count": 90,
     "metadata": {},
     "output_type": "execute_result"
    }
   ],
   "source": [
    "len(genre_count)"
   ]
  },
  {
   "cell_type": "code",
   "execution_count": 91,
   "metadata": {},
   "outputs": [],
   "source": [
    "def remove_empty_lists(genre_list):\n",
    "    if len(genre_list) == 0:\n",
    "        return np.nan\n",
    "    else:\n",
    "        return genre_list"
   ]
  },
  {
   "cell_type": "code",
   "execution_count": 92,
   "metadata": {},
   "outputs": [],
   "source": [
    "movie_data_new[\"genre\"] = movie_data_new[\"genre\"].apply(remove_empty_lists)"
   ]
  },
  {
   "cell_type": "code",
   "execution_count": 93,
   "metadata": {},
   "outputs": [],
   "source": [
    "movie_data_new.dropna(subset=[\"genre\", \"plot\"], inplace=True)"
   ]
  },
  {
   "cell_type": "code",
   "execution_count": 94,
   "metadata": {},
   "outputs": [
    {
     "data": {
      "text/html": [
       "<div>\n",
       "<style scoped>\n",
       "    .dataframe tbody tr th:only-of-type {\n",
       "        vertical-align: middle;\n",
       "    }\n",
       "\n",
       "    .dataframe tbody tr th {\n",
       "        vertical-align: top;\n",
       "    }\n",
       "\n",
       "    .dataframe thead th {\n",
       "        text-align: right;\n",
       "    }\n",
       "</style>\n",
       "<table border=\"1\" class=\"dataframe\">\n",
       "  <thead>\n",
       "    <tr style=\"text-align: right;\">\n",
       "      <th></th>\n",
       "      <th>ID</th>\n",
       "      <th>movie_name</th>\n",
       "      <th>year_release</th>\n",
       "      <th>play_time</th>\n",
       "      <th>Language</th>\n",
       "      <th>country</th>\n",
       "      <th>genre</th>\n",
       "      <th>plot</th>\n",
       "    </tr>\n",
       "  </thead>\n",
       "  <tbody>\n",
       "    <tr>\n",
       "      <th>0</th>\n",
       "      <td>975900</td>\n",
       "      <td>Ghosts of Mars</td>\n",
       "      <td>2001-08-24</td>\n",
       "      <td>98.0</td>\n",
       "      <td>English Language</td>\n",
       "      <td>United States of America</td>\n",
       "      <td>[supernatural, fiction, thriller, horror, west...</td>\n",
       "      <td>Set in the second half of the 22nd century, th...</td>\n",
       "    </tr>\n",
       "    <tr>\n",
       "      <th>3</th>\n",
       "      <td>9363483</td>\n",
       "      <td>White Of The Eye</td>\n",
       "      <td>1987</td>\n",
       "      <td>110.0</td>\n",
       "      <td>English Language</td>\n",
       "      <td>United Kingdom</td>\n",
       "      <td>[psychological, thriller, melodrama]</td>\n",
       "      <td>A series of murders of rich young women throug...</td>\n",
       "    </tr>\n",
       "    <tr>\n",
       "      <th>4</th>\n",
       "      <td>261236</td>\n",
       "      <td>A Woman in Flames</td>\n",
       "      <td>1983</td>\n",
       "      <td>106.0</td>\n",
       "      <td>German Language</td>\n",
       "      <td>Germany</td>\n",
       "      <td>[drama]</td>\n",
       "      <td>Eva, an upper class housewife, becomes frustra...</td>\n",
       "    </tr>\n",
       "    <tr>\n",
       "      <th>6</th>\n",
       "      <td>18998739</td>\n",
       "      <td>The Sorcerer's Apprentice</td>\n",
       "      <td>2002</td>\n",
       "      <td>86.0</td>\n",
       "      <td>English Language</td>\n",
       "      <td>South Africa</td>\n",
       "      <td>[fantasy, adventure, family]</td>\n",
       "      <td>Every hundred years, the evil Morgana  returns...</td>\n",
       "    </tr>\n",
       "    <tr>\n",
       "      <th>12</th>\n",
       "      <td>6631279</td>\n",
       "      <td>Little city</td>\n",
       "      <td>1997-04-04</td>\n",
       "      <td>93.0</td>\n",
       "      <td>English Language</td>\n",
       "      <td>United States of America</td>\n",
       "      <td>[musical, romance, comedy, drama]</td>\n",
       "      <td>Adam, a San Francisco-based artist who works a...</td>\n",
       "    </tr>\n",
       "  </tbody>\n",
       "</table>\n",
       "</div>"
      ],
      "text/plain": [
       "          ID                 movie_name year_release  play_time  \\\n",
       "0     975900             Ghosts of Mars   2001-08-24       98.0   \n",
       "3    9363483           White Of The Eye         1987      110.0   \n",
       "4     261236          A Woman in Flames         1983      106.0   \n",
       "6   18998739  The Sorcerer's Apprentice         2002       86.0   \n",
       "12   6631279                Little city   1997-04-04       93.0   \n",
       "\n",
       "            Language                   country  \\\n",
       "0   English Language  United States of America   \n",
       "3   English Language            United Kingdom   \n",
       "4    German Language                   Germany   \n",
       "6   English Language              South Africa   \n",
       "12  English Language  United States of America   \n",
       "\n",
       "                                                genre  \\\n",
       "0   [supernatural, fiction, thriller, horror, west...   \n",
       "3                [psychological, thriller, melodrama]   \n",
       "4                                             [drama]   \n",
       "6                        [fantasy, adventure, family]   \n",
       "12                  [musical, romance, comedy, drama]   \n",
       "\n",
       "                                                 plot  \n",
       "0   Set in the second half of the 22nd century, th...  \n",
       "3   A series of murders of rich young women throug...  \n",
       "4   Eva, an upper class housewife, becomes frustra...  \n",
       "6   Every hundred years, the evil Morgana  returns...  \n",
       "12  Adam, a San Francisco-based artist who works a...  "
      ]
     },
     "execution_count": 94,
     "metadata": {},
     "output_type": "execute_result"
    }
   ],
   "source": [
    "movie_data_new.head()"
   ]
  },
  {
   "cell_type": "code",
   "execution_count": 95,
   "metadata": {},
   "outputs": [],
   "source": [
    "# remove \\u00e0\n",
    "def remove_u0(genre_list):\n",
    "    if \"\\u00e0\" in genre_list:\n",
    "        genre_list.remove(\"\\u00e0\")\n",
    "    return genre_list\n",
    "\n",
    "movie_data_new[\"genre\"] = movie_data_new[\"genre\"].apply(remove_u0)"
   ]
  },
  {
   "cell_type": "code",
   "execution_count": 96,
   "metadata": {},
   "outputs": [],
   "source": [
    "from sklearn.preprocessing import MultiLabelBinarizer"
   ]
  },
  {
   "cell_type": "code",
   "execution_count": 97,
   "metadata": {},
   "outputs": [],
   "source": [
    "mlb = MultiLabelBinarizer()"
   ]
  },
  {
   "cell_type": "code",
   "execution_count": 98,
   "metadata": {},
   "outputs": [],
   "source": [
    "genre_transformed = mlb.fit_transform(movie_data_new[\"genre\"].values)"
   ]
  },
  {
   "cell_type": "code",
   "execution_count": 99,
   "metadata": {},
   "outputs": [],
   "source": [
    "genre_new = pd.DataFrame(data=genre_transformed, columns=mlb.classes_)"
   ]
  },
  {
   "cell_type": "code",
   "execution_count": 100,
   "metadata": {},
   "outputs": [
    {
     "data": {
      "text/html": [
       "<div>\n",
       "<style scoped>\n",
       "    .dataframe tbody tr th:only-of-type {\n",
       "        vertical-align: middle;\n",
       "    }\n",
       "\n",
       "    .dataframe tbody tr th {\n",
       "        vertical-align: top;\n",
       "    }\n",
       "\n",
       "    .dataframe thead th {\n",
       "        text-align: right;\n",
       "    }\n",
       "</style>\n",
       "<table border=\"1\" class=\"dataframe\">\n",
       "  <thead>\n",
       "    <tr style=\"text-align: right;\">\n",
       "      <th></th>\n",
       "      <th>action</th>\n",
       "      <th>adaptation</th>\n",
       "      <th>adventure</th>\n",
       "      <th>animation</th>\n",
       "      <th>biography</th>\n",
       "      <th>black</th>\n",
       "      <th>black-and-white</th>\n",
       "      <th>bollywood</th>\n",
       "      <th>children</th>\n",
       "      <th>chinese</th>\n",
       "      <th>...</th>\n",
       "      <th>slasher</th>\n",
       "      <th>society</th>\n",
       "      <th>sports</th>\n",
       "      <th>supernatural</th>\n",
       "      <th>suspense</th>\n",
       "      <th>teen</th>\n",
       "      <th>television</th>\n",
       "      <th>thriller</th>\n",
       "      <th>war</th>\n",
       "      <th>western</th>\n",
       "    </tr>\n",
       "  </thead>\n",
       "  <tbody>\n",
       "    <tr>\n",
       "      <th>0</th>\n",
       "      <td>1</td>\n",
       "      <td>0</td>\n",
       "      <td>1</td>\n",
       "      <td>0</td>\n",
       "      <td>0</td>\n",
       "      <td>0</td>\n",
       "      <td>0</td>\n",
       "      <td>0</td>\n",
       "      <td>0</td>\n",
       "      <td>0</td>\n",
       "      <td>...</td>\n",
       "      <td>0</td>\n",
       "      <td>0</td>\n",
       "      <td>0</td>\n",
       "      <td>1</td>\n",
       "      <td>0</td>\n",
       "      <td>0</td>\n",
       "      <td>0</td>\n",
       "      <td>1</td>\n",
       "      <td>0</td>\n",
       "      <td>1</td>\n",
       "    </tr>\n",
       "    <tr>\n",
       "      <th>1</th>\n",
       "      <td>0</td>\n",
       "      <td>0</td>\n",
       "      <td>0</td>\n",
       "      <td>0</td>\n",
       "      <td>0</td>\n",
       "      <td>0</td>\n",
       "      <td>0</td>\n",
       "      <td>0</td>\n",
       "      <td>0</td>\n",
       "      <td>0</td>\n",
       "      <td>...</td>\n",
       "      <td>0</td>\n",
       "      <td>0</td>\n",
       "      <td>0</td>\n",
       "      <td>0</td>\n",
       "      <td>0</td>\n",
       "      <td>0</td>\n",
       "      <td>0</td>\n",
       "      <td>1</td>\n",
       "      <td>0</td>\n",
       "      <td>0</td>\n",
       "    </tr>\n",
       "    <tr>\n",
       "      <th>2</th>\n",
       "      <td>0</td>\n",
       "      <td>0</td>\n",
       "      <td>0</td>\n",
       "      <td>0</td>\n",
       "      <td>0</td>\n",
       "      <td>0</td>\n",
       "      <td>0</td>\n",
       "      <td>0</td>\n",
       "      <td>0</td>\n",
       "      <td>0</td>\n",
       "      <td>...</td>\n",
       "      <td>0</td>\n",
       "      <td>0</td>\n",
       "      <td>0</td>\n",
       "      <td>0</td>\n",
       "      <td>0</td>\n",
       "      <td>0</td>\n",
       "      <td>0</td>\n",
       "      <td>0</td>\n",
       "      <td>0</td>\n",
       "      <td>0</td>\n",
       "    </tr>\n",
       "    <tr>\n",
       "      <th>3</th>\n",
       "      <td>0</td>\n",
       "      <td>0</td>\n",
       "      <td>1</td>\n",
       "      <td>0</td>\n",
       "      <td>0</td>\n",
       "      <td>0</td>\n",
       "      <td>0</td>\n",
       "      <td>0</td>\n",
       "      <td>0</td>\n",
       "      <td>0</td>\n",
       "      <td>...</td>\n",
       "      <td>0</td>\n",
       "      <td>0</td>\n",
       "      <td>0</td>\n",
       "      <td>0</td>\n",
       "      <td>0</td>\n",
       "      <td>0</td>\n",
       "      <td>0</td>\n",
       "      <td>0</td>\n",
       "      <td>0</td>\n",
       "      <td>0</td>\n",
       "    </tr>\n",
       "    <tr>\n",
       "      <th>4</th>\n",
       "      <td>0</td>\n",
       "      <td>0</td>\n",
       "      <td>0</td>\n",
       "      <td>0</td>\n",
       "      <td>0</td>\n",
       "      <td>0</td>\n",
       "      <td>0</td>\n",
       "      <td>0</td>\n",
       "      <td>0</td>\n",
       "      <td>0</td>\n",
       "      <td>...</td>\n",
       "      <td>0</td>\n",
       "      <td>0</td>\n",
       "      <td>0</td>\n",
       "      <td>0</td>\n",
       "      <td>0</td>\n",
       "      <td>0</td>\n",
       "      <td>0</td>\n",
       "      <td>0</td>\n",
       "      <td>0</td>\n",
       "      <td>0</td>\n",
       "    </tr>\n",
       "  </tbody>\n",
       "</table>\n",
       "<p>5 rows × 50 columns</p>\n",
       "</div>"
      ],
      "text/plain": [
       "   action  adaptation  adventure  animation  biography  black  \\\n",
       "0       1           0          1          0          0      0   \n",
       "1       0           0          0          0          0      0   \n",
       "2       0           0          0          0          0      0   \n",
       "3       0           0          1          0          0      0   \n",
       "4       0           0          0          0          0      0   \n",
       "\n",
       "   black-and-white  bollywood  children  chinese  ...  slasher  society  \\\n",
       "0                0          0         0        0  ...        0        0   \n",
       "1                0          0         0        0  ...        0        0   \n",
       "2                0          0         0        0  ...        0        0   \n",
       "3                0          0         0        0  ...        0        0   \n",
       "4                0          0         0        0  ...        0        0   \n",
       "\n",
       "   sports  supernatural  suspense  teen  television  thriller  war  western  \n",
       "0       0             1         0     0           0         1    0        1  \n",
       "1       0             0         0     0           0         1    0        0  \n",
       "2       0             0         0     0           0         0    0        0  \n",
       "3       0             0         0     0           0         0    0        0  \n",
       "4       0             0         0     0           0         0    0        0  \n",
       "\n",
       "[5 rows x 50 columns]"
      ]
     },
     "execution_count": 100,
     "metadata": {},
     "output_type": "execute_result"
    }
   ],
   "source": [
    "genre_new.head()"
   ]
  },
  {
   "cell_type": "code",
   "execution_count": 101,
   "metadata": {},
   "outputs": [],
   "source": [
    "movie_genre_data = pd.concat([movie_data_new, genre_new], axis=1)"
   ]
  },
  {
   "cell_type": "code",
   "execution_count": 102,
   "metadata": {},
   "outputs": [
    {
     "data": {
      "text/html": [
       "<div>\n",
       "<style scoped>\n",
       "    .dataframe tbody tr th:only-of-type {\n",
       "        vertical-align: middle;\n",
       "    }\n",
       "\n",
       "    .dataframe tbody tr th {\n",
       "        vertical-align: top;\n",
       "    }\n",
       "\n",
       "    .dataframe thead th {\n",
       "        text-align: right;\n",
       "    }\n",
       "</style>\n",
       "<table border=\"1\" class=\"dataframe\">\n",
       "  <thead>\n",
       "    <tr style=\"text-align: right;\">\n",
       "      <th></th>\n",
       "      <th>ID</th>\n",
       "      <th>movie_name</th>\n",
       "      <th>year_release</th>\n",
       "      <th>play_time</th>\n",
       "      <th>Language</th>\n",
       "      <th>country</th>\n",
       "      <th>genre</th>\n",
       "      <th>plot</th>\n",
       "      <th>action</th>\n",
       "      <th>adaptation</th>\n",
       "      <th>...</th>\n",
       "      <th>slasher</th>\n",
       "      <th>society</th>\n",
       "      <th>sports</th>\n",
       "      <th>supernatural</th>\n",
       "      <th>suspense</th>\n",
       "      <th>teen</th>\n",
       "      <th>television</th>\n",
       "      <th>thriller</th>\n",
       "      <th>war</th>\n",
       "      <th>western</th>\n",
       "    </tr>\n",
       "  </thead>\n",
       "  <tbody>\n",
       "    <tr>\n",
       "      <th>0</th>\n",
       "      <td>975900.0</td>\n",
       "      <td>Ghosts of Mars</td>\n",
       "      <td>2001-08-24</td>\n",
       "      <td>98.0</td>\n",
       "      <td>English Language</td>\n",
       "      <td>United States of America</td>\n",
       "      <td>[supernatural, fiction, thriller, horror, west...</td>\n",
       "      <td>Set in the second half of the 22nd century, th...</td>\n",
       "      <td>1.0</td>\n",
       "      <td>0.0</td>\n",
       "      <td>...</td>\n",
       "      <td>0.0</td>\n",
       "      <td>0.0</td>\n",
       "      <td>0.0</td>\n",
       "      <td>1.0</td>\n",
       "      <td>0.0</td>\n",
       "      <td>0.0</td>\n",
       "      <td>0.0</td>\n",
       "      <td>1.0</td>\n",
       "      <td>0.0</td>\n",
       "      <td>1.0</td>\n",
       "    </tr>\n",
       "    <tr>\n",
       "      <th>1</th>\n",
       "      <td>NaN</td>\n",
       "      <td>NaN</td>\n",
       "      <td>NaN</td>\n",
       "      <td>NaN</td>\n",
       "      <td>NaN</td>\n",
       "      <td>NaN</td>\n",
       "      <td>NaN</td>\n",
       "      <td>NaN</td>\n",
       "      <td>0.0</td>\n",
       "      <td>0.0</td>\n",
       "      <td>...</td>\n",
       "      <td>0.0</td>\n",
       "      <td>0.0</td>\n",
       "      <td>0.0</td>\n",
       "      <td>0.0</td>\n",
       "      <td>0.0</td>\n",
       "      <td>0.0</td>\n",
       "      <td>0.0</td>\n",
       "      <td>1.0</td>\n",
       "      <td>0.0</td>\n",
       "      <td>0.0</td>\n",
       "    </tr>\n",
       "    <tr>\n",
       "      <th>2</th>\n",
       "      <td>NaN</td>\n",
       "      <td>NaN</td>\n",
       "      <td>NaN</td>\n",
       "      <td>NaN</td>\n",
       "      <td>NaN</td>\n",
       "      <td>NaN</td>\n",
       "      <td>NaN</td>\n",
       "      <td>NaN</td>\n",
       "      <td>0.0</td>\n",
       "      <td>0.0</td>\n",
       "      <td>...</td>\n",
       "      <td>0.0</td>\n",
       "      <td>0.0</td>\n",
       "      <td>0.0</td>\n",
       "      <td>0.0</td>\n",
       "      <td>0.0</td>\n",
       "      <td>0.0</td>\n",
       "      <td>0.0</td>\n",
       "      <td>0.0</td>\n",
       "      <td>0.0</td>\n",
       "      <td>0.0</td>\n",
       "    </tr>\n",
       "    <tr>\n",
       "      <th>3</th>\n",
       "      <td>9363483.0</td>\n",
       "      <td>White Of The Eye</td>\n",
       "      <td>1987</td>\n",
       "      <td>110.0</td>\n",
       "      <td>English Language</td>\n",
       "      <td>United Kingdom</td>\n",
       "      <td>[psychological, thriller, melodrama]</td>\n",
       "      <td>A series of murders of rich young women throug...</td>\n",
       "      <td>0.0</td>\n",
       "      <td>0.0</td>\n",
       "      <td>...</td>\n",
       "      <td>0.0</td>\n",
       "      <td>0.0</td>\n",
       "      <td>0.0</td>\n",
       "      <td>0.0</td>\n",
       "      <td>0.0</td>\n",
       "      <td>0.0</td>\n",
       "      <td>0.0</td>\n",
       "      <td>0.0</td>\n",
       "      <td>0.0</td>\n",
       "      <td>0.0</td>\n",
       "    </tr>\n",
       "    <tr>\n",
       "      <th>4</th>\n",
       "      <td>261236.0</td>\n",
       "      <td>A Woman in Flames</td>\n",
       "      <td>1983</td>\n",
       "      <td>106.0</td>\n",
       "      <td>German Language</td>\n",
       "      <td>Germany</td>\n",
       "      <td>[drama]</td>\n",
       "      <td>Eva, an upper class housewife, becomes frustra...</td>\n",
       "      <td>0.0</td>\n",
       "      <td>0.0</td>\n",
       "      <td>...</td>\n",
       "      <td>0.0</td>\n",
       "      <td>0.0</td>\n",
       "      <td>0.0</td>\n",
       "      <td>0.0</td>\n",
       "      <td>0.0</td>\n",
       "      <td>0.0</td>\n",
       "      <td>0.0</td>\n",
       "      <td>0.0</td>\n",
       "      <td>0.0</td>\n",
       "      <td>0.0</td>\n",
       "    </tr>\n",
       "  </tbody>\n",
       "</table>\n",
       "<p>5 rows × 58 columns</p>\n",
       "</div>"
      ],
      "text/plain": [
       "          ID         movie_name year_release  play_time          Language  \\\n",
       "0   975900.0     Ghosts of Mars   2001-08-24       98.0  English Language   \n",
       "1        NaN                NaN          NaN        NaN               NaN   \n",
       "2        NaN                NaN          NaN        NaN               NaN   \n",
       "3  9363483.0   White Of The Eye         1987      110.0  English Language   \n",
       "4   261236.0  A Woman in Flames         1983      106.0   German Language   \n",
       "\n",
       "                    country  \\\n",
       "0  United States of America   \n",
       "1                       NaN   \n",
       "2                       NaN   \n",
       "3            United Kingdom   \n",
       "4                   Germany   \n",
       "\n",
       "                                               genre  \\\n",
       "0  [supernatural, fiction, thriller, horror, west...   \n",
       "1                                                NaN   \n",
       "2                                                NaN   \n",
       "3               [psychological, thriller, melodrama]   \n",
       "4                                            [drama]   \n",
       "\n",
       "                                                plot  action  adaptation  ...  \\\n",
       "0  Set in the second half of the 22nd century, th...     1.0         0.0  ...   \n",
       "1                                                NaN     0.0         0.0  ...   \n",
       "2                                                NaN     0.0         0.0  ...   \n",
       "3  A series of murders of rich young women throug...     0.0         0.0  ...   \n",
       "4  Eva, an upper class housewife, becomes frustra...     0.0         0.0  ...   \n",
       "\n",
       "   slasher  society  sports  supernatural  suspense  teen  television  \\\n",
       "0      0.0      0.0     0.0           1.0       0.0   0.0         0.0   \n",
       "1      0.0      0.0     0.0           0.0       0.0   0.0         0.0   \n",
       "2      0.0      0.0     0.0           0.0       0.0   0.0         0.0   \n",
       "3      0.0      0.0     0.0           0.0       0.0   0.0         0.0   \n",
       "4      0.0      0.0     0.0           0.0       0.0   0.0         0.0   \n",
       "\n",
       "   thriller  war  western  \n",
       "0       1.0  0.0      1.0  \n",
       "1       1.0  0.0      0.0  \n",
       "2       0.0  0.0      0.0  \n",
       "3       0.0  0.0      0.0  \n",
       "4       0.0  0.0      0.0  \n",
       "\n",
       "[5 rows x 58 columns]"
      ]
     },
     "execution_count": 102,
     "metadata": {},
     "output_type": "execute_result"
    }
   ],
   "source": [
    "movie_genre_data.head()"
   ]
  },
  {
   "cell_type": "markdown",
   "metadata": {},
   "source": [
    "### Removing the null values and using only the 'plot' attribute to predict the genres"
   ]
  },
  {
   "cell_type": "code",
   "execution_count": 103,
   "metadata": {},
   "outputs": [],
   "source": [
    "movie_plot_label = movie_genre_data.copy()"
   ]
  },
  {
   "cell_type": "code",
   "execution_count": 104,
   "metadata": {},
   "outputs": [],
   "source": [
    "movie_plot_label = movie_plot_label.drop([\"ID\", \"movie_name\", \"year_release\", \"play_time\", \"Language\", \"country\", \\\n",
    "                       \"genre\"], axis=1)"
   ]
  },
  {
   "cell_type": "code",
   "execution_count": 105,
   "metadata": {},
   "outputs": [],
   "source": [
    "movie_plot_label.dropna(inplace=True)"
   ]
  },
  {
   "cell_type": "code",
   "execution_count": 106,
   "metadata": {},
   "outputs": [
    {
     "data": {
      "text/html": [
       "<div>\n",
       "<style scoped>\n",
       "    .dataframe tbody tr th:only-of-type {\n",
       "        vertical-align: middle;\n",
       "    }\n",
       "\n",
       "    .dataframe tbody tr th {\n",
       "        vertical-align: top;\n",
       "    }\n",
       "\n",
       "    .dataframe thead th {\n",
       "        text-align: right;\n",
       "    }\n",
       "</style>\n",
       "<table border=\"1\" class=\"dataframe\">\n",
       "  <thead>\n",
       "    <tr style=\"text-align: right;\">\n",
       "      <th></th>\n",
       "      <th>plot</th>\n",
       "      <th>action</th>\n",
       "      <th>adaptation</th>\n",
       "      <th>adventure</th>\n",
       "      <th>animation</th>\n",
       "      <th>biography</th>\n",
       "      <th>black</th>\n",
       "      <th>black-and-white</th>\n",
       "      <th>bollywood</th>\n",
       "      <th>children</th>\n",
       "      <th>...</th>\n",
       "      <th>slasher</th>\n",
       "      <th>society</th>\n",
       "      <th>sports</th>\n",
       "      <th>supernatural</th>\n",
       "      <th>suspense</th>\n",
       "      <th>teen</th>\n",
       "      <th>television</th>\n",
       "      <th>thriller</th>\n",
       "      <th>war</th>\n",
       "      <th>western</th>\n",
       "    </tr>\n",
       "  </thead>\n",
       "  <tbody>\n",
       "    <tr>\n",
       "      <th>0</th>\n",
       "      <td>Set in the second half of the 22nd century, th...</td>\n",
       "      <td>1.0</td>\n",
       "      <td>0.0</td>\n",
       "      <td>1.0</td>\n",
       "      <td>0.0</td>\n",
       "      <td>0.0</td>\n",
       "      <td>0.0</td>\n",
       "      <td>0.0</td>\n",
       "      <td>0.0</td>\n",
       "      <td>0.0</td>\n",
       "      <td>...</td>\n",
       "      <td>0.0</td>\n",
       "      <td>0.0</td>\n",
       "      <td>0.0</td>\n",
       "      <td>1.0</td>\n",
       "      <td>0.0</td>\n",
       "      <td>0.0</td>\n",
       "      <td>0.0</td>\n",
       "      <td>1.0</td>\n",
       "      <td>0.0</td>\n",
       "      <td>1.0</td>\n",
       "    </tr>\n",
       "    <tr>\n",
       "      <th>3</th>\n",
       "      <td>A series of murders of rich young women throug...</td>\n",
       "      <td>0.0</td>\n",
       "      <td>0.0</td>\n",
       "      <td>1.0</td>\n",
       "      <td>0.0</td>\n",
       "      <td>0.0</td>\n",
       "      <td>0.0</td>\n",
       "      <td>0.0</td>\n",
       "      <td>0.0</td>\n",
       "      <td>0.0</td>\n",
       "      <td>...</td>\n",
       "      <td>0.0</td>\n",
       "      <td>0.0</td>\n",
       "      <td>0.0</td>\n",
       "      <td>0.0</td>\n",
       "      <td>0.0</td>\n",
       "      <td>0.0</td>\n",
       "      <td>0.0</td>\n",
       "      <td>0.0</td>\n",
       "      <td>0.0</td>\n",
       "      <td>0.0</td>\n",
       "    </tr>\n",
       "    <tr>\n",
       "      <th>4</th>\n",
       "      <td>Eva, an upper class housewife, becomes frustra...</td>\n",
       "      <td>0.0</td>\n",
       "      <td>0.0</td>\n",
       "      <td>0.0</td>\n",
       "      <td>0.0</td>\n",
       "      <td>0.0</td>\n",
       "      <td>0.0</td>\n",
       "      <td>0.0</td>\n",
       "      <td>0.0</td>\n",
       "      <td>0.0</td>\n",
       "      <td>...</td>\n",
       "      <td>0.0</td>\n",
       "      <td>0.0</td>\n",
       "      <td>0.0</td>\n",
       "      <td>0.0</td>\n",
       "      <td>0.0</td>\n",
       "      <td>0.0</td>\n",
       "      <td>0.0</td>\n",
       "      <td>0.0</td>\n",
       "      <td>0.0</td>\n",
       "      <td>0.0</td>\n",
       "    </tr>\n",
       "    <tr>\n",
       "      <th>6</th>\n",
       "      <td>Every hundred years, the evil Morgana  returns...</td>\n",
       "      <td>0.0</td>\n",
       "      <td>0.0</td>\n",
       "      <td>0.0</td>\n",
       "      <td>0.0</td>\n",
       "      <td>0.0</td>\n",
       "      <td>0.0</td>\n",
       "      <td>0.0</td>\n",
       "      <td>0.0</td>\n",
       "      <td>0.0</td>\n",
       "      <td>...</td>\n",
       "      <td>0.0</td>\n",
       "      <td>0.0</td>\n",
       "      <td>0.0</td>\n",
       "      <td>0.0</td>\n",
       "      <td>0.0</td>\n",
       "      <td>0.0</td>\n",
       "      <td>0.0</td>\n",
       "      <td>0.0</td>\n",
       "      <td>0.0</td>\n",
       "      <td>0.0</td>\n",
       "    </tr>\n",
       "    <tr>\n",
       "      <th>12</th>\n",
       "      <td>Adam, a San Francisco-based artist who works a...</td>\n",
       "      <td>0.0</td>\n",
       "      <td>0.0</td>\n",
       "      <td>0.0</td>\n",
       "      <td>0.0</td>\n",
       "      <td>0.0</td>\n",
       "      <td>0.0</td>\n",
       "      <td>0.0</td>\n",
       "      <td>0.0</td>\n",
       "      <td>0.0</td>\n",
       "      <td>...</td>\n",
       "      <td>0.0</td>\n",
       "      <td>0.0</td>\n",
       "      <td>0.0</td>\n",
       "      <td>0.0</td>\n",
       "      <td>0.0</td>\n",
       "      <td>0.0</td>\n",
       "      <td>0.0</td>\n",
       "      <td>0.0</td>\n",
       "      <td>0.0</td>\n",
       "      <td>0.0</td>\n",
       "    </tr>\n",
       "  </tbody>\n",
       "</table>\n",
       "<p>5 rows × 51 columns</p>\n",
       "</div>"
      ],
      "text/plain": [
       "                                                 plot  action  adaptation  \\\n",
       "0   Set in the second half of the 22nd century, th...     1.0         0.0   \n",
       "3   A series of murders of rich young women throug...     0.0         0.0   \n",
       "4   Eva, an upper class housewife, becomes frustra...     0.0         0.0   \n",
       "6   Every hundred years, the evil Morgana  returns...     0.0         0.0   \n",
       "12  Adam, a San Francisco-based artist who works a...     0.0         0.0   \n",
       "\n",
       "    adventure  animation  biography  black  black-and-white  bollywood  \\\n",
       "0         1.0        0.0        0.0    0.0              0.0        0.0   \n",
       "3         1.0        0.0        0.0    0.0              0.0        0.0   \n",
       "4         0.0        0.0        0.0    0.0              0.0        0.0   \n",
       "6         0.0        0.0        0.0    0.0              0.0        0.0   \n",
       "12        0.0        0.0        0.0    0.0              0.0        0.0   \n",
       "\n",
       "    children  ...  slasher  society  sports  supernatural  suspense  teen  \\\n",
       "0        0.0  ...      0.0      0.0     0.0           1.0       0.0   0.0   \n",
       "3        0.0  ...      0.0      0.0     0.0           0.0       0.0   0.0   \n",
       "4        0.0  ...      0.0      0.0     0.0           0.0       0.0   0.0   \n",
       "6        0.0  ...      0.0      0.0     0.0           0.0       0.0   0.0   \n",
       "12       0.0  ...      0.0      0.0     0.0           0.0       0.0   0.0   \n",
       "\n",
       "    television  thriller  war  western  \n",
       "0          0.0       1.0  0.0      1.0  \n",
       "3          0.0       0.0  0.0      0.0  \n",
       "4          0.0       0.0  0.0      0.0  \n",
       "6          0.0       0.0  0.0      0.0  \n",
       "12         0.0       0.0  0.0      0.0  \n",
       "\n",
       "[5 rows x 51 columns]"
      ]
     },
     "execution_count": 106,
     "metadata": {},
     "output_type": "execute_result"
    }
   ],
   "source": [
    "movie_plot_label.head()"
   ]
  },
  {
   "cell_type": "code",
   "execution_count": null,
   "metadata": {},
   "outputs": [],
   "source": []
  },
  {
   "cell_type": "code",
   "execution_count": null,
   "metadata": {},
   "outputs": [],
   "source": []
  },
  {
   "cell_type": "markdown",
   "metadata": {},
   "source": [
    "## Cleaning the movie plots"
   ]
  },
  {
   "cell_type": "code",
   "execution_count": 107,
   "metadata": {},
   "outputs": [],
   "source": [
    "import nltk\n",
    "from nltk.corpus import stopwords\n",
    "from nltk.stem.snowball import SnowballStemmer\n",
    "import re"
   ]
  },
  {
   "cell_type": "code",
   "execution_count": 108,
   "metadata": {},
   "outputs": [],
   "source": [
    "# cleaning the text\n",
    "def clean_text(text):\n",
    "    text = text.lower()\n",
    "    text = re.sub(r\"what's\", \"what is \", text)\n",
    "    text = re.sub(r\"\\'s\", \" \", text)\n",
    "    text = re.sub(r\"\\'ve\", \" have \", text)\n",
    "    text = re.sub(r\"can't\", \"can not \", text)\n",
    "    text = re.sub(r\"n't\", \" not \", text)\n",
    "    text = re.sub(r\"i'm\", \"i am \", text)\n",
    "    text = re.sub(r\"\\'re\", \" are \", text)\n",
    "    text = re.sub(r\"\\'d\", \" would \", text)\n",
    "    text = re.sub(r\"\\'ll\", \" will \", text)\n",
    "    text = re.sub(r\"\\'scuse\", \" excuse \", text)\n",
    "    text = re.sub('\\W', ' ', text)\n",
    "    text = re.sub('\\s+', ' ', text)\n",
    "    text = text.strip(' ')\n",
    "    return text"
   ]
  },
  {
   "cell_type": "code",
   "execution_count": 109,
   "metadata": {},
   "outputs": [],
   "source": [
    "movie_plot_label[\"plot\"] = movie_plot_label[\"plot\"].apply(clean_text)"
   ]
  },
  {
   "cell_type": "markdown",
   "metadata": {},
   "source": [
    "### Removing Stop Words"
   ]
  },
  {
   "cell_type": "code",
   "execution_count": 110,
   "metadata": {},
   "outputs": [
    {
     "name": "stderr",
     "output_type": "stream",
     "text": [
      "[nltk_data] Downloading package stopwords to /home/neeraj/nltk_data...\n",
      "[nltk_data]   Package stopwords is already up-to-date!\n"
     ]
    },
    {
     "data": {
      "text/plain": [
       "True"
      ]
     },
     "execution_count": 110,
     "metadata": {},
     "output_type": "execute_result"
    }
   ],
   "source": [
    "import nltk\n",
    "nltk.download('stopwords')"
   ]
  },
  {
   "cell_type": "code",
   "execution_count": 111,
   "metadata": {},
   "outputs": [],
   "source": [
    "stop_words = set(stopwords.words('english'))"
   ]
  },
  {
   "cell_type": "code",
   "execution_count": 112,
   "metadata": {},
   "outputs": [],
   "source": [
    "# adding some extra words to the stop words\n",
    "stop_words.update(['zero','one','two','three','four','five',\\\n",
    "                   'six','seven','eight','nine','ten','may','also','across',\\\n",
    "                   'among','beside','however','yet','within'])"
   ]
  },
  {
   "cell_type": "code",
   "execution_count": 113,
   "metadata": {},
   "outputs": [],
   "source": [
    "re_stop_words = re.compile(r\"\\b(\" + \"|\".join(stop_words) + \")\\\\W\", re.I)\n",
    "def removeStopWords(sentence):\n",
    "    global re_stop_words\n",
    "    return re_stop_words.sub(\" \", sentence)"
   ]
  },
  {
   "cell_type": "code",
   "execution_count": 114,
   "metadata": {},
   "outputs": [],
   "source": [
    "movie_plot_label[\"plot\"] = movie_plot_label[\"plot\"].apply(removeStopWords)"
   ]
  },
  {
   "cell_type": "markdown",
   "metadata": {},
   "source": [
    "### Stemming"
   ]
  },
  {
   "cell_type": "code",
   "execution_count": 115,
   "metadata": {},
   "outputs": [],
   "source": [
    "stemmer = SnowballStemmer(\"english\")\n",
    "def stemming(sentence):\n",
    "    stemSentence = \"\"\n",
    "    for word in sentence.split():\n",
    "        stem = stemmer.stem(word)\n",
    "        stemSentence += stem\n",
    "        stemSentence += \" \"\n",
    "    stemSentence = stemSentence.strip()\n",
    "    return stemSentence"
   ]
  },
  {
   "cell_type": "code",
   "execution_count": 116,
   "metadata": {},
   "outputs": [],
   "source": [
    "movie_plot_label[\"plot\"] = movie_plot_label[\"plot\"].apply(stemming)"
   ]
  },
  {
   "cell_type": "markdown",
   "metadata": {},
   "source": [
    "### TF-IDF"
   ]
  },
  {
   "cell_type": "code",
   "execution_count": 117,
   "metadata": {},
   "outputs": [
    {
     "data": {
      "text/plain": [
       "(21943, 51)"
      ]
     },
     "execution_count": 117,
     "metadata": {},
     "output_type": "execute_result"
    }
   ],
   "source": [
    "movie_plot_label.shape"
   ]
  },
  {
   "cell_type": "code",
   "execution_count": 118,
   "metadata": {},
   "outputs": [],
   "source": [
    "from sklearn.model_selection import train_test_split\n",
    "train, test = train_test_split(movie_plot_label, random_state=42, test_size=0.30, shuffle=True)\n",
    "\n",
    "from sklearn.feature_extraction.text import TfidfVectorizer\n",
    "\n",
    "vectorizer = TfidfVectorizer(strip_accents='unicode', analyzer='word',  norm='l2', max_features=1000, ngram_range=(1, 3))\n",
    "train_text = train[\"plot\"]\n",
    "test_text = test[\"plot\"]\n",
    "vectorizer.fit(movie_plot_label[\"plot\"])\n",
    "\n",
    "x_train = vectorizer.transform(train_text)\n",
    "y_train = train.drop([\"plot\"], axis=1)\n",
    "\n",
    "x_test = vectorizer.transform(test_text)\n",
    "y_test = test.drop([\"plot\"], axis=1)"
   ]
  },
  {
   "cell_type": "markdown",
   "metadata": {},
   "source": [
    "## Metrics"
   ]
  },
  {
   "cell_type": "code",
   "execution_count": 109,
   "metadata": {},
   "outputs": [],
   "source": [
    "from sklearn.metrics import recall_score\n",
    "from sklearn.metrics import precision_score\n",
    "from sklearn.metrics import f1_score"
   ]
  },
  {
   "cell_type": "markdown",
   "metadata": {},
   "source": [
    "## One vs Rest"
   ]
  },
  {
   "cell_type": "code",
   "execution_count": 7,
   "metadata": {},
   "outputs": [
    {
     "name": "stderr",
     "output_type": "stream",
     "text": [
      "/home/neeraj/anaconda3/lib/python3.7/importlib/_bootstrap.py:219: RuntimeWarning: numpy.ufunc size changed, may indicate binary incompatibility. Expected 192 from C header, got 216 from PyObject\n",
      "  return f(*args, **kwds)\n"
     ]
    }
   ],
   "source": [
    "from sklearn.linear_model import LogisticRegression\n",
    "from sklearn.pipeline import Pipeline\n",
    "from sklearn.metrics import accuracy_score\n",
    "from sklearn.multiclass import OneVsRestClassifier\n",
    "\n",
    "# Using pipeline for applying logistic regression and one vs rest classifier\n",
    "LogReg_pipeline = Pipeline([\n",
    "                ('clf', OneVsRestClassifier(LogisticRegression(solver='sag'), n_jobs=-1)),\n",
    "            ])\n",
    "\n",
    "LogReg_pipeline.fit(x_train, y_train)"
   ]
  },
  {
   "cell_type": "code",
   "execution_count": 111,
   "metadata": {},
   "outputs": [],
   "source": [
    "import pickle\n",
    "\n",
    "# save the model to disk\n",
    "filename = \"logreg_model.sav\"\n",
    "pickle.dump(LogReg_pipeline, open(filename, 'wb'))\n",
    "\n",
    "# load the model from disk\n",
    "loaded_logreg_model = pickle.load(open(filename, 'rb'))"
   ]
  },
  {
   "cell_type": "code",
   "execution_count": 112,
   "metadata": {},
   "outputs": [],
   "source": [
    "threshold = 0.2\n",
    "probability_predicts = loaded_logreg_model.predict_proba(x_test)"
   ]
  },
  {
   "cell_type": "code",
   "execution_count": 113,
   "metadata": {},
   "outputs": [
    {
     "name": "stdout",
     "output_type": "stream",
     "text": [
      "f1 score: 0.2930504916583802\n",
      "recall score: 0.29649005141962886\n",
      "precision score: 0.2896898208824814\n"
     ]
    }
   ],
   "source": [
    "predictions = np.asarray(probability_predicts > threshold, dtype=np.int32)\n",
    "print(\"f1 score: {}\".format(f1_score(y_test, predictions, average='micro')))\n",
    "print(\"recall score: {}\".format(recall_score(y_test, predictions, average='micro')))\n",
    "print(\"precision score: {}\".format(precision_score(y_test, predictions, average=\"micro\")))"
   ]
  },
  {
   "cell_type": "code",
   "execution_count": null,
   "metadata": {},
   "outputs": [],
   "source": []
  },
  {
   "cell_type": "code",
   "execution_count": null,
   "metadata": {},
   "outputs": [],
   "source": []
  },
  {
   "cell_type": "markdown",
   "metadata": {},
   "source": [
    "## Batching the data because of huge memory"
   ]
  },
  {
   "cell_type": "code",
   "execution_count": null,
   "metadata": {},
   "outputs": [],
   "source": [
    "def batch_generator(x_train, y_train, batch_size):\n",
    "    start_idx = 0\n",
    "    for i in range(0, x_train.shape[0]-batch_size, batch_size):\n",
    "        x_train_partial = x_train[start_idx: start_idx + batch_size]\n",
    "        y_train_partial = y_train[start_idx: start_idx + batch_size]\n",
    "        yield x_train, y_train\n",
    "        start_idx += batch_size"
   ]
  },
  {
   "cell_type": "code",
   "execution_count": null,
   "metadata": {},
   "outputs": [],
   "source": []
  },
  {
   "cell_type": "code",
   "execution_count": null,
   "metadata": {},
   "outputs": [],
   "source": []
  },
  {
   "cell_type": "code",
   "execution_count": null,
   "metadata": {},
   "outputs": [],
   "source": []
  },
  {
   "cell_type": "code",
   "execution_count": null,
   "metadata": {},
   "outputs": [],
   "source": [
    "batch_generator = batch_generator(x_train, x_test, 1000)"
   ]
  },
  {
   "cell_type": "code",
   "execution_count": null,
   "metadata": {},
   "outputs": [],
   "source": [
    "from sklearn.naive_bayes import MultinomialNB\n",
    "from sklearn.metrics import accuracy_score\n",
    "from sklearn.multioutput import MultiOutputClassifier\n",
    "\n",
    "clf = MultiOutputClassifier(MultinomialNB())\n",
    "clf.partial_fit(x_train[:10], y_train[:10], classes=[[0, 1]] * len(y_test.columns))\n",
    "for x_train_p, y_train_p in batch_generator:\n",
    "    clf.partial_fit(x_train_p, y_train_p)"
   ]
  },
  {
   "cell_type": "code",
   "execution_count": null,
   "metadata": {},
   "outputs": [],
   "source": []
  },
  {
   "cell_type": "code",
   "execution_count": 94,
   "metadata": {},
   "outputs": [
    {
     "name": "stdout",
     "output_type": "stream",
     "text": [
      "**Processing action genre...**\n",
      "Test accuracy is 0.8177122892298344\n",
      "\n",
      "\n",
      "**Processing adaptation genre...**\n",
      "Test accuracy is 0.972049217681908\n",
      "\n",
      "\n",
      "**Processing adventure genre...**\n",
      "Test accuracy is 0.8360929667324928\n",
      "\n",
      "\n",
      "**Processing animation genre...**\n",
      "Test accuracy is 0.9345283305483822\n",
      "\n",
      "\n",
      "**Processing biography genre...**\n",
      "Test accuracy is 0.9725049369588333\n",
      "\n",
      "\n",
      "**Processing black genre...**\n",
      "Test accuracy is 0.9782773811332219\n",
      "\n",
      "\n",
      "**Processing black-and-white genre...**\n",
      "Test accuracy is 0.9041470454200212\n",
      "\n",
      "\n",
      "**Processing bollywood genre...**\n",
      "Test accuracy is 0.9752392526203858\n",
      "\n",
      "\n",
      "**Processing children genre...**\n",
      "Test accuracy is 0.9726568433844751\n",
      "\n",
      "\n",
      "**Processing chinese genre...**\n",
      "Test accuracy is 0.975846878322953\n",
      "\n",
      "\n",
      "**Processing comedy genre...**\n",
      "Test accuracy is 0.6814522254291356\n",
      "\n",
      "\n",
      "**Processing coming-of-age genre...**\n",
      "Test accuracy is 0.9740240012152515\n",
      "\n",
      "\n",
      "**Processing crime genre...**\n",
      "Test accuracy is 0.8754367309737202\n",
      "\n",
      "\n",
      "**Processing cult genre...**\n",
      "Test accuracy is 0.9810116967947744\n",
      "\n",
      "\n",
      "**Processing culture genre...**\n",
      "Test accuracy is 0.9845055445845359\n",
      "\n",
      "\n",
      "**Processing documentary genre...**\n",
      "Test accuracy is 0.9680996506152211\n",
      "\n",
      "\n",
      "**Processing drama genre...**\n",
      "Test accuracy is 0.5102536837308218\n",
      "\n",
      "\n",
      "**Processing family genre...**\n",
      "Test accuracy is 0.9100713960200516\n",
      "\n",
      "\n",
      "**Processing fantasy genre...**\n",
      "Test accuracy is 0.9375664590612183\n",
      "\n",
      "\n",
      "**Processing fiction genre...**\n",
      "Test accuracy is 0.8163451313990582\n",
      "\n",
      "\n",
      "**Processing historical genre...**\n",
      "Test accuracy is 0.9902779887589245\n",
      "\n",
      "\n",
      "**Processing history genre...**\n",
      "Test accuracy is 0.9644538963998177\n",
      "\n",
      "\n",
      "**Processing horror genre...**\n",
      "Test accuracy is 0.9023241683123197\n",
      "\n",
      "\n",
      "**Processing indie genre...**\n",
      "Test accuracy is 0.9080966124867081\n",
      "\n",
      "\n",
      "**Processing japanese genre...**\n",
      "Test accuracy is 0.9661248670818776\n",
      "\n",
      "\n",
      "**Processing lgbt genre...**\n",
      "Test accuracy is 0.9761506911742367\n",
      "\n",
      "\n",
      "**Processing martial-art genre...**\n",
      "Test accuracy is 0.9808597903691326\n",
      "\n",
      "\n",
      "**Processing melodrama genre...**\n",
      "Test accuracy is 0.9336168919945314\n",
      "\n",
      "\n",
      "**Processing music genre...**\n",
      "Test accuracy is 0.9886070180768647\n",
      "\n",
      "\n",
      "**Processing musical genre...**\n",
      "Test accuracy is 0.9330092662919641\n",
      "\n",
      "\n",
      "**Processing mystery genre...**\n",
      "Test accuracy is 0.9437946225125323\n",
      "\n",
      "\n",
      "**Processing noir genre...**\n",
      "Test accuracy is 0.9881512987999392\n",
      "\n",
      "\n",
      "**Processing parody genre...**\n",
      "Test accuracy is 0.9424274646817561\n",
      "\n",
      "\n",
      "**Processing political genre...**\n",
      "Test accuracy is 0.9729606562357588\n",
      "\n",
      "\n",
      "**Processing psychological genre...**\n",
      "Test accuracy is 0.974327814066535\n",
      "\n",
      "\n",
      "**Processing romance genre...**\n",
      "Test accuracy is 0.8298648032811788\n",
      "\n",
      "\n",
      "**Processing satire genre...**\n",
      "Test accuracy is 0.9785811939845055\n",
      "\n",
      "\n",
      "**Processing science genre...**\n",
      "Test accuracy is 0.9283001670970682\n",
      "\n",
      "\n",
      "**Processing short genre...**\n",
      "Test accuracy is 0.9094637703174844\n",
      "\n",
      "\n",
      "**Processing silent genre...**\n",
      "Test accuracy is 0.9623272064408325\n",
      "\n",
      "\n",
      "**Processing slasher genre...**\n",
      "Test accuracy is 0.9605043293331308\n",
      "\n",
      "\n",
      "**Processing society genre...**\n",
      "Test accuracy is 0.9916451465897007\n",
      "\n",
      "\n",
      "**Processing sports genre...**\n",
      "Test accuracy is 0.9823788546255506\n",
      "\n",
      "\n",
      "**Processing supernatural genre...**\n",
      "Test accuracy is 0.9752392526203858\n",
      "\n",
      "\n",
      "**Processing suspense genre...**\n",
      "Test accuracy is 0.9843536381588941\n",
      "\n",
      "\n",
      "**Processing teen genre...**\n",
      "Test accuracy is 0.9749354397691022\n",
      "\n",
      "\n",
      "**Processing television genre...**\n",
      "Test accuracy is 0.9834421996050433\n",
      "\n",
      "\n",
      "**Processing thriller genre...**\n",
      "Test accuracy is 0.8342700896247911\n",
      "\n",
      "\n",
      "**Processing war genre...**\n",
      "Test accuracy is 0.9646058028254595\n",
      "\n",
      "\n",
      "**Processing western genre...**\n",
      "Test accuracy is 0.9693149020203554\n",
      "\n",
      "\n",
      "The Average Accuracy is 0.9314446301078536\n"
     ]
    }
   ],
   "source": [
    "from sklearn.linear_model import LogisticRegression\n",
    "from sklearn.pipeline import Pipeline\n",
    "from sklearn.metrics import accuracy_score\n",
    "from sklearn.multiclass import OneVsRestClassifier\n",
    "\n",
    "accuracy_list = []\n",
    "\n",
    "# Using pipeline for applying logistic regression and one vs rest classifier\n",
    "LogReg_pipeline = Pipeline([\n",
    "                ('clf', OneVsRestClassifier(LogisticRegression(solver='sag'), n_jobs=-1)),\n",
    "            ])\n",
    "\n",
    "categories = list(y_train.columns)\n",
    "for category in categories:\n",
    "    print('**Processing {} genre...**'.format(category))\n",
    "    \n",
    "    # Training logistic regression model on train data\n",
    "    LogReg_pipeline.fit(x_train, train[category])\n",
    "    \n",
    "    # calculating test accuracy\n",
    "    prediction = LogReg_pipeline.predict(x_test)\n",
    "    print('Test accuracy is {}'.format(accuracy_score(test[category], prediction)))\n",
    "    accuracy_list.append(accuracy_score(test[category], prediction))\n",
    "    print(\"\\n\")\n",
    "    \n",
    "print(\"The Average Accuracy is {}\".format(np.mean(accuracy_list)))"
   ]
  },
  {
   "cell_type": "code",
   "execution_count": null,
   "metadata": {},
   "outputs": [],
   "source": []
  },
  {
   "cell_type": "markdown",
   "metadata": {},
   "source": [
    "## binary relevance"
   ]
  },
  {
   "cell_type": "code",
   "execution_count": 114,
   "metadata": {},
   "outputs": [],
   "source": [
    "from skmultilearn.problem_transform import BinaryRelevance\n",
    "from sklearn.naive_bayes import GaussianNB\n",
    "\n",
    "# initialize binary relevance multi-label classifier\n",
    "# with a gaussian naive bayes base classifier\n",
    "classifier = BinaryRelevance(GaussianNB())\n",
    "\n",
    "# train\n",
    "classifier.fit(x_train, y_train)\n",
    "\n",
    "# save the model to disk\n",
    "filename = \"naiveb_model.sav\"\n",
    "pickle.dump(classifier, open(filename, 'wb'))\n",
    "\n",
    "# load the model from disk\n",
    "loaded_naiveb_model = pickle.load(open(filename, 'rb'))\n"
   ]
  },
  {
   "cell_type": "code",
   "execution_count": 115,
   "metadata": {},
   "outputs": [],
   "source": [
    "predictions = loaded_naiveb_model.predict(x_test)"
   ]
  },
  {
   "cell_type": "code",
   "execution_count": 116,
   "metadata": {},
   "outputs": [
    {
     "name": "stdout",
     "output_type": "stream",
     "text": [
      "f1 score: 0.13059101931111047\n",
      "recall score: 0.3997317236753856\n",
      "precision score: 0.07804384073469459\n"
     ]
    }
   ],
   "source": [
    "print(\"f1 score: {}\".format(f1_score(y_test, predictions, average='micro')))\n",
    "print(\"recall score: {}\".format(recall_score(y_test, predictions, average='micro')))\n",
    "print(\"precision score: {}\".format(precision_score(y_test, predictions, average=\"micro\")))"
   ]
  },
  {
   "cell_type": "markdown",
   "metadata": {},
   "source": [
    "## Label Powerset"
   ]
  },
  {
   "cell_type": "code",
   "execution_count": 117,
   "metadata": {},
   "outputs": [],
   "source": [
    "from skmultilearn.problem_transform import LabelPowerset\n",
    "\n",
    "# initialize label powerset multi-label classifier\n",
    "classifier = LabelPowerset(LogisticRegression())\n",
    "\n",
    "# train\n",
    "classifier.fit(x_train, y_train)\n",
    "\n",
    "# save the model to disk\n",
    "filename = \"lplogregress_model.sav\"\n",
    "pickle.dump(classifier, open(filename, 'wb'))\n",
    "\n",
    "# load the model from disk\n",
    "loaded_lb_loreg_model = pickle.load(open(filename, 'rb'))"
   ]
  },
  {
   "cell_type": "code",
   "execution_count": 118,
   "metadata": {},
   "outputs": [],
   "source": [
    "predictions = loaded_lb_loreg_model.predict(x_test)"
   ]
  },
  {
   "cell_type": "code",
   "execution_count": 119,
   "metadata": {},
   "outputs": [
    {
     "name": "stdout",
     "output_type": "stream",
     "text": [
      "f1 score: 0.20566349731293923\n",
      "recall score: 0.1334674714956405\n",
      "precision score: 0.4479963980189104\n"
     ]
    }
   ],
   "source": [
    "print(\"f1 score: {}\".format(f1_score(y_test, predictions, average='micro')))\n",
    "print(\"recall score: {}\".format(recall_score(y_test, predictions, average='micro')))\n",
    "print(\"precision score: {}\".format(precision_score(y_test, predictions, average=\"micro\")))"
   ]
  },
  {
   "cell_type": "markdown",
   "metadata": {},
   "source": [
    "## classifier chains"
   ]
  },
  {
   "cell_type": "code",
   "execution_count": 120,
   "metadata": {},
   "outputs": [],
   "source": [
    "from skmultilearn.problem_transform import ClassifierChain\n",
    "from sklearn.linear_model import LogisticRegression\n",
    "\n",
    "# initialize classifier chains multi-label classifier\n",
    "classifier = ClassifierChain(LogisticRegression())\n",
    "\n",
    "# Training logistic regression model on train data\n",
    "classifier.fit(x_train, y_train)\n",
    "\n",
    "# save the model to disk\n",
    "filename = \"chain_logregress.sav\"\n",
    "pickle.dump(classifier, open(filename, 'wb'))\n",
    "\n",
    "# load the model from disk\n",
    "loaded_chain_model = pickle.load(open(filename, 'rb'))"
   ]
  },
  {
   "cell_type": "code",
   "execution_count": 121,
   "metadata": {},
   "outputs": [],
   "source": [
    "predictions = loaded_chain_model.predict(x_test)"
   ]
  },
  {
   "cell_type": "code",
   "execution_count": 122,
   "metadata": {},
   "outputs": [
    {
     "name": "stdout",
     "output_type": "stream",
     "text": [
      "f1 score: 0.17483376698467767\n",
      "recall score: 0.10816007154035323\n",
      "precision score: 0.4558130770680234\n"
     ]
    }
   ],
   "source": [
    "print(\"f1 score: {}\".format(f1_score(y_test, predictions, average='micro')))\n",
    "print(\"recall score: {}\".format(recall_score(y_test, predictions, average='micro')))\n",
    "print(\"precision score: {}\".format(precision_score(y_test, predictions, average=\"micro\")))"
   ]
  },
  {
   "cell_type": "code",
   "execution_count": null,
   "metadata": {},
   "outputs": [],
   "source": []
  },
  {
   "cell_type": "code",
   "execution_count": 4,
   "metadata": {},
   "outputs": [],
   "source": []
  },
  {
   "cell_type": "code",
   "execution_count": null,
   "metadata": {},
   "outputs": [],
   "source": []
  },
  {
   "cell_type": "code",
   "execution_count": null,
   "metadata": {},
   "outputs": [],
   "source": []
  },
  {
   "cell_type": "code",
   "execution_count": null,
   "metadata": {},
   "outputs": [],
   "source": []
  },
  {
   "cell_type": "code",
   "execution_count": null,
   "metadata": {},
   "outputs": [],
   "source": []
  },
  {
   "cell_type": "code",
   "execution_count": null,
   "metadata": {},
   "outputs": [],
   "source": []
  },
  {
   "cell_type": "code",
   "execution_count": null,
   "metadata": {},
   "outputs": [],
   "source": []
  },
  {
   "cell_type": "code",
   "execution_count": null,
   "metadata": {},
   "outputs": [],
   "source": []
  },
  {
   "cell_type": "code",
   "execution_count": null,
   "metadata": {},
   "outputs": [],
   "source": []
  },
  {
   "cell_type": "code",
   "execution_count": null,
   "metadata": {},
   "outputs": [],
   "source": []
  },
  {
   "cell_type": "code",
   "execution_count": null,
   "metadata": {},
   "outputs": [],
   "source": []
  }
 ],
 "metadata": {
  "kernelspec": {
   "display_name": "Python 3",
   "language": "python",
   "name": "python3"
  },
  "language_info": {
   "codemirror_mode": {
    "name": "ipython",
    "version": 3
   },
   "file_extension": ".py",
   "mimetype": "text/x-python",
   "name": "python",
   "nbconvert_exporter": "python",
   "pygments_lexer": "ipython3",
   "version": "3.7.3"
  }
 },
 "nbformat": 4,
 "nbformat_minor": 4
}
